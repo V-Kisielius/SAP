{
 "cells": [
  {
   "cell_type": "code",
   "execution_count": 1,
   "metadata": {},
   "outputs": [],
   "source": [
    "import numpy as np\n",
    "import pandas as pd\n"
   ]
  },
  {
   "cell_type": "code",
   "execution_count": 2,
   "metadata": {},
   "outputs": [],
   "source": [
    "# make df with column names year, month, decimal date, SSN, M1, M2, M3, M4, M5 from file 5c_obs_sim_v1.dat\n",
    "df = pd.read_csv('5c_obs_sim_v1.dat', sep='\\s+', header=None, names=['year', 'month', 'decimal_date', 'SSN', 'M1', 'M2', 'M3', 'M4', 'M5'])\n",
    "\n",
    "# normalize data to be between 0 and 1 using max value from SSN\n",
    "observed_series = df['SSN'].values\n",
    "model_series = df['M1'].values\n",
    "M = np.max(observed_series)\n",
    "observed_series = observed_series / M\n",
    "model_series = model_series / M\n"
   ]
  },
  {
   "cell_type": "code",
   "execution_count": 10,
   "metadata": {},
   "outputs": [],
   "source": [
    "test_m = model_series[360:]\n",
    "test_o = observed_series[360:]\n",
    "\n",
    "# make predictions using formula p_n+1 = m_n+1 * (o_n / m_n)\n",
    "predictions = np.zeros(len(test_m))\n",
    "predictions[0] = test_m[0] * (observed_series[359] / model_series[359])\n",
    "for i in range(1, len(test_m)):\n",
    "    predictions[i] = test_m[i] * (test_o[i-1] / test_m[i-1])"
   ]
  },
  {
   "cell_type": "code",
   "execution_count": 13,
   "metadata": {},
   "outputs": [],
   "source": [
    "# calculate RMSE\n",
    "RMSE = np.sqrt(np.mean((test_o - predictions)**2)) * M"
   ]
  },
  {
   "cell_type": "code",
   "execution_count": 14,
   "metadata": {},
   "outputs": [
    {
     "data": {
      "text/plain": [
       "2.515225690765875"
      ]
     },
     "execution_count": 14,
     "metadata": {},
     "output_type": "execute_result"
    }
   ],
   "source": [
    "RMSE"
   ]
  },
  {
   "cell_type": "code",
   "execution_count": 17,
   "metadata": {},
   "outputs": [
    {
     "data": {
      "text/plain": [
       "2.3698449494076175"
      ]
     },
     "execution_count": 17,
     "metadata": {},
     "output_type": "execute_result"
    }
   ],
   "source": [
    "# make predictions using formula p_n+1 = m_n+1 + o_n - m_n\n",
    "predictions = np.zeros(len(test_m))\n",
    "predictions[0] = test_m[0] + observed_series[359] - model_series[359]\n",
    "for i in range(1, len(test_m)):\n",
    "    predictions[i] = test_m[i] + test_o[i-1] - test_m[i-1]\n",
    "    \n",
    "# calculate RMSE    \n",
    "RMSE = np.sqrt(np.mean((test_o - predictions)**2)) * M\n",
    "RMSE\n"
   ]
  },
  {
   "cell_type": "code",
   "execution_count": 18,
   "metadata": {},
   "outputs": [
    {
     "data": {
      "text/plain": [
       "3.065330324777413"
      ]
     },
     "execution_count": 18,
     "metadata": {},
     "output_type": "execute_result"
    }
   ],
   "source": [
    "# make predictions using formula p_n+1 = p_n\n",
    "predictions = np.zeros(len(test_m))\n",
    "predictions[0] = observed_series[359]\n",
    "for i in range(1, len(test_m)):\n",
    "    predictions[i] = test_o[i-1]\n",
    "    \n",
    "# calculate RMSE\n",
    "RMSE = np.sqrt(np.mean((test_o - predictions)**2)) * M\n",
    "RMSE\n"
   ]
  }
 ],
 "metadata": {
  "kernelspec": {
   "display_name": "Python 3",
   "language": "python",
   "name": "python3"
  },
  "language_info": {
   "codemirror_mode": {
    "name": "ipython",
    "version": 3
   },
   "file_extension": ".py",
   "mimetype": "text/x-python",
   "name": "python",
   "nbconvert_exporter": "python",
   "pygments_lexer": "ipython3",
   "version": "3.10.6"
  }
 },
 "nbformat": 4,
 "nbformat_minor": 2
}
