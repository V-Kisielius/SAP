{
 "cells": [
  {
   "cell_type": "markdown",
   "metadata": {},
   "source": [
    "# Imports"
   ]
  },
  {
   "cell_type": "code",
   "execution_count": 1,
   "metadata": {},
   "outputs": [],
   "source": [
    "import numpy as np\n",
    "import os\n",
    "import matplotlib.pyplot as plt\n",
    "import torch\n",
    "import torch.nn as nn\n",
    "from sklearn.model_selection import train_test_split\n",
    "from tqdm import tqdm\n",
    "import pandas as pd\n",
    "import plotly.graph_objects as go\n",
    "\n",
    "\n",
    "device = torch.device('cuda' if torch.cuda.is_available() else 'cpu')"
   ]
  },
  {
   "cell_type": "markdown",
   "metadata": {},
   "source": [
    "# Data preprocessing"
   ]
  },
  {
   "cell_type": "code",
   "execution_count": 2,
   "metadata": {},
   "outputs": [],
   "source": [
    "# make df with column names year, month, decimal date, SSN, M1, M2, M3, M4, M5 from file 5c_obs_sim_v1.dat\n",
    "df = pd.read_csv('5c_obs_sim_v1.dat', sep='\\s+', header=None, names=['year', 'month', 'decimal_date', 'SSN', 'M1', 'M2', 'M3', 'M4', 'M5'])\n",
    "\n",
    "# normalize data to be between 0 and 1 using max value from SSN\n",
    "observed_series = df['SSN'].values\n",
    "model_series = df['M1'].values\n",
    "M = np.max(observed_series)\n",
    "observed_series = observed_series / M\n",
    "model_series = model_series / M\n"
   ]
  },
  {
   "cell_type": "code",
   "execution_count": 3,
   "metadata": {},
   "outputs": [],
   "source": [
    "class MixedDataGenerator:\n",
    "    def __init__(self,\n",
    "                 model_series,\n",
    "                 observed_series,\n",
    "                 previous_values,\n",
    "                 horizon=18):\n",
    "        self.model_series = model_series\n",
    "        self.observed_series = observed_series\n",
    "        self.horizon = horizon\n",
    "        self.n_prev = previous_values\n",
    "        self.X, self.y = self._prepare_data()\n",
    "        \n",
    "    def _prepare_data(self):\n",
    "        l = len(self.model_series) - self.n_prev - self.horizon + 1\n",
    "        X = np.zeros((l, 2 * self.n_prev + self.horizon))\n",
    "        y = np.zeros(l)\n",
    "        for i in range(l):\n",
    "            X[i, -self.n_prev:] = self.observed_series[i:i + self.n_prev]\n",
    "            X[i, :-self.n_prev] = self.model_series[i:i + self.n_prev + self.horizon]\n",
    "            \n",
    "            # X[i, :self.n_prev] = self.observed_series[i:i + self.n_prev]\n",
    "            # X[i, self.n_prev:] = self.model_series[i:i + self.n_prev + self.horizon]\n",
    "            \n",
    "            y[i] = self.observed_series[i + self.n_prev + self.horizon - 1]\n",
    "        return torch.tensor(X, dtype=torch.float32), torch.tensor(y, dtype=torch.float32)\n",
    "        \n",
    "    def __len__(self):\n",
    "        return len(self.X)\n",
    "    \n",
    "    def __getitem__(self, idx):\n",
    "        return self.X[idx], self.y[idx]"
   ]
  },
  {
   "cell_type": "markdown",
   "metadata": {},
   "source": [
    "# Model building"
   ]
  },
  {
   "cell_type": "code",
   "execution_count": 14,
   "metadata": {},
   "outputs": [],
   "source": [
    "import torch\n",
    "import torch.nn as nn\n",
    "import numpy as np\n",
    "from tqdm import tqdm\n",
    "\n",
    "class NARX(nn.Module):\n",
    "    def __init__(self, input_size, hidden_sizes, output_size):\n",
    "        super(NARX, self).__init__()\n",
    "        self.net = nn.Sequential(\n",
    "            nn.Linear(input_size, hidden_sizes[0]),\n",
    "            nn.Sigmoid(),\n",
    "            *[\n",
    "                layer\n",
    "                for i in range(len(hidden_sizes) - 1)\n",
    "                for layer in (nn.Linear(hidden_sizes[i], hidden_sizes[i + 1]), nn.Sigmoid())\n",
    "            ],\n",
    "            nn.Linear(hidden_sizes[-1], output_size),\n",
    "            nn.Softplus()\n",
    "        )\n",
    "\n",
    "    def forward(self, x):\n",
    "        out = self.net(x)\n",
    "        return out\n",
    "    \n",
    "    def train_model(self, trainloader, test_data_X, test_data_y, epochs=1000, lr=0.001):\n",
    "        optimizer = torch.optim.Adam(self.parameters(), lr=lr)\n",
    "        criterion = nn.MSELoss()\n",
    "        train_losses = []\n",
    "        rmse_epochs = []\n",
    "\n",
    "        for epoch in tqdm(range(epochs), desc='Training', unit='epoch'):\n",
    "            self.train()\n",
    "            train_loss = 0\n",
    "            for X, y in trainloader:\n",
    "                X, y = X.to(device), y.to(device)\n",
    "                optimizer.zero_grad()\n",
    "                output = self(X)\n",
    "                loss = criterion(output, y.unsqueeze(1))\n",
    "                loss.backward()\n",
    "                optimizer.step()\n",
    "                train_loss += loss.item()\n",
    "            train_losses.append(train_loss / len(trainloader))\n",
    "            \n",
    "            # Каждые 500 эпох считаем RMSE\n",
    "            if (epoch + 1) % 500 == 0:\n",
    "                rmse = self.compute_rmse(test_data_X, test_data_y)\n",
    "                rmse_epochs.append(rmse)\n",
    "        return np.array(train_losses), np.array(rmse_epochs)\n",
    "    \n",
    "    def compute_rmse(self, test_data_X, test_data_y):\n",
    "        self.eval()\n",
    "        prediction = self(test_data_X.to(device)).squeeze()\n",
    "        prediction = prediction.cpu().detach()\n",
    "        rmse = ((prediction - test_data_y).pow(2).mean(dim=0).sqrt() * M).numpy()\n",
    "        return rmse\n",
    "\n",
    "device = torch.device('cuda' if torch.cuda.is_available() else 'cpu')"
   ]
  },
  {
   "cell_type": "code",
   "execution_count": null,
   "metadata": {},
   "outputs": [],
   "source": [
    "data = MixedDataGenerator(model_series, observed_series, 4, 1)\n",
    "\n",
    "train_data_X = data.X[:360]\n",
    "train_data_y = data.y[:360]\n",
    "\n",
    "test_data_X = data.X[360:]\n",
    "test_data_y = data.y[360:]\n",
    "\n",
    "trainloader = torch.utils.data.DataLoader(torch.utils.data.TensorDataset(train_data_X, train_data_y), batch_size=64, shuffle=True)"
   ]
  },
  {
   "cell_type": "code",
   "execution_count": 15,
   "metadata": {},
   "outputs": [
    {
     "data": {
      "text/plain": [
       "NARX(\n",
       "  (net): Sequential(\n",
       "    (0): Linear(in_features=9, out_features=24, bias=True)\n",
       "    (1): Sigmoid()\n",
       "    (2): Linear(in_features=24, out_features=1, bias=True)\n",
       "    (3): Softplus(beta=1, threshold=20)\n",
       "  )\n",
       ")"
      ]
     },
     "execution_count": 15,
     "metadata": {},
     "output_type": "execute_result"
    }
   ],
   "source": [
    "model = NARX(input_size=2*4+1, hidden_sizes=[24], output_size=1)\n",
    "model.to(device)"
   ]
  },
  {
   "cell_type": "code",
   "execution_count": 16,
   "metadata": {},
   "outputs": [
    {
     "name": "stderr",
     "output_type": "stream",
     "text": [
      "Training: 100%|██████████| 5000/5000 [01:07<00:00, 74.22epoch/s]\n"
     ]
    }
   ],
   "source": [
    "train_losses, rmses = model.train_model(trainloader, test_data_X, test_data_y, epochs=5000, lr=0.001)"
   ]
  },
  {
   "cell_type": "code",
   "execution_count": 17,
   "metadata": {},
   "outputs": [
    {
     "data": {
      "text/plain": [
       "array([9.231347 , 5.7164235, 4.025008 , 3.3507419, 3.0061073, 2.8393786,\n",
       "       2.679795 , 2.5794961, 2.5397613, 2.4844015], dtype=float32)"
      ]
     },
     "execution_count": 17,
     "metadata": {},
     "output_type": "execute_result"
    }
   ],
   "source": [
    "import os\n",
    "\n",
    "folder_name = 'results_x18'\n",
    "\n",
    "# Убедимся, что папка results существует\n",
    "if not os.path.exists(folder_name):\n",
    "    os.makedirs(folder_name)\n",
    "\n",
    "# Цикл для обучения 200 моделей\n",
    "\n",
    "for i in range(500):\n",
    "    print(f\"Training model iteration {i+1}/500\")\n",
    "    rmses_for_horizon = []\n",
    "    for horizon in range(1, 19):\n",
    "        data = MixedDataGenerator(model_series, observed_series, 4, horizon)\n",
    "\n",
    "        train_data_X = data.X[:360]\n",
    "        train_data_y = data.y[:360]\n",
    "\n",
    "        test_data_X = data.X[360:]\n",
    "        test_data_y = data.y[360:]\n",
    "\n",
    "        trainloader = torch.utils.data.DataLoader(torch.utils.data.TensorDataset(train_data_X, train_data_y), batch_size=64, shuffle=True)\n",
    "        # Инициализация новой модели\n",
    "        model = NARX(input_size=2*4+horizon, hidden_sizes=[24], output_size=1)\n",
    "        model.to(device)\n",
    "        \n",
    "        # Обучение модели\n",
    "        train_losses, rmses = model.train_model(trainloader, test_data_X, test_data_y, epochs=10000, lr=0.001)\n",
    "        \n",
    "        rmses_for_horizon.append(rmses)\n",
    "    rmses_for_horizon = np.array(rmses_for_horizon)\n",
    "    np.save(f'{folder_name}/rmses_{i}.npy', rmses_for_horizon.T)\n"
   ]
  },
  {
   "cell_type": "code",
   "execution_count": null,
   "metadata": {},
   "outputs": [
    {
     "data": {
      "text/plain": [
       "<matplotlib.colorbar.Colorbar at 0x20d07625000>"
      ]
     },
     "metadata": {},
     "output_type": "display_data"
    },
    {
     "data": {
      "image/png": "[encoded data removed]",
      "text/plain": [
       "<Figure size 640x480 with 2 Axes>"
      ]
     },
     "metadata": {},
     "output_type": "display_data"
    }
   ],
   "source": [
    "plt.imshow(rmses.T, cmap='hot_r', interpolation='nearest')\n",
    "plt.colorbar()"
   ]
  },
  {
   "cell_type": "code",
   "execution_count": null,
   "metadata": {},
   "outputs": [],
   "source": []
  },
  {
   "cell_type": "code",
   "execution_count": 3,
   "metadata": {},
   "outputs": [
    {
     "data": {
      "text/plain": [
       "(227, 20, 18)"
      ]
     },
     "execution_count": 3,
     "metadata": {},
     "output_type": "execute_result"
    }
   ],
   "source": [
    "import numpy as np\n",
    "import matplotlib.pyplot as plt\n",
    "import os\n",
    "\n",
    "# Путь к папке, содержащей файлы\n",
    "folder_path = 'RMSESx227-x18'\n",
    "\n",
    "# Считывание всех файлов rmses_i.npy в папке\n",
    "rmses_files = [os.path.join(folder_path, f\"rmses_{i}.npy\") for i in range(227)]\n",
    "\n",
    "# Инициализация списка для хранения массивов\n",
    "rmses_arrays = []\n",
    "\n",
    "# Чтение каждого файла и добавление его в список\n",
    "for file in rmses_files:\n",
    "    rmses_arrays.append(np.load(file))\n",
    "\n",
    "# Создание единого массива из всех считанных массивов\n",
    "combined_rmses_array = np.stack(rmses_arrays)\n",
    "\n",
    "# Вывод размера итогового массива\n",
    "combined_rmses_array.shape\n"
   ]
  },
  {
   "cell_type": "code",
   "execution_count": 4,
   "metadata": {},
   "outputs": [],
   "source": [
    "mean_rmses = np.mean(combined_rmses_array, axis=0)"
   ]
  },
  {
   "cell_type": "code",
   "execution_count": 5,
   "metadata": {},
   "outputs": [
    {
     "data": {
      "text/plain": [
       "(20, 18)"
      ]
     },
     "execution_count": 5,
     "metadata": {},
     "output_type": "execute_result"
    }
   ],
   "source": [
    "mean_rmses.shape"
   ]
  },
  {
   "cell_type": "code",
   "execution_count": 6,
   "metadata": {},
   "outputs": [
    {
     "data": {
      "text/plain": [
       "<matplotlib.colorbar.Colorbar at 0x243b69185e0>"
      ]
     },
     "execution_count": 6,
     "metadata": {},
     "output_type": "execute_result"
    },
    {
     "data": {
      "image/png": "[encoded data removed]",
      "text/plain": [
       "<Figure size 640x480 with 2 Axes>"
      ]
     },
     "metadata": {},
     "output_type": "display_data"
    }
   ],
   "source": [
    "plt.imshow(mean_rmses, cmap='hot_r', interpolation='nearest')\n",
    "plt.colorbar()\n",
    "\n"
   ]
  },
  {
   "cell_type": "code",
   "execution_count": null,
   "metadata": {},
   "outputs": [],
   "source": [
    "import pandas as pd"
   ]
  },
  {
   "cell_type": "code",
   "execution_count": null,
   "metadata": {},
   "outputs": [
    {
     "data": {
      "text/plain": [
       "((500, 20, 18), (20, 18))"
      ]
     },
     "metadata": {},
     "output_type": "display_data"
    }
   ],
   "source": [
    "combined_rmses_array.shape, mean_rmses.shape"
   ]
  },
  {
   "cell_type": "code",
   "execution_count": 7,
   "metadata": {},
   "outputs": [],
   "source": [
    "stds = np.std(combined_rmses_array, axis=0, ddof=1)"
   ]
  },
  {
   "cell_type": "code",
   "execution_count": 7,
   "metadata": {},
   "outputs": [
    {
     "data": {
      "text/plain": [
       "(20, 18)"
      ]
     },
     "execution_count": 7,
     "metadata": {},
     "output_type": "execute_result"
    }
   ],
   "source": [
    "stds.shape"
   ]
  },
  {
   "cell_type": "code",
   "execution_count": null,
   "metadata": {},
   "outputs": [],
   "source": [
    "print('RMSE ошибки для 18 месяцев:')\n",
    "for i, rmse in enumerate(mean_rmses):\n",
    "    print(f'После {500 * (i + 1)} эпох:')\n",
    "    for j, error in enumerate(rmse):\n",
    "        print(f'Месяц {j + 1}: {error:.2f} +- {stds[i, j]:.2f}')\n",
    "    print()\n"
   ]
  },
  {
   "cell_type": "code",
   "execution_count": 8,
   "metadata": {},
   "outputs": [
    {
     "name": "stdout",
     "output_type": "stream",
     "text": [
      "Plots saved in folder: plots-x18_227\n"
     ]
    }
   ],
   "source": [
    "# Plot 20 different plots for every RMSE ± std\n",
    "\n",
    "# Ensure the save folder exists\n",
    "save_folder = 'plots-x18_227'\n",
    "if not os.path.exists(save_folder):\n",
    "    os.makedirs(save_folder)\n",
    "\n",
    "# Number of rows (experiments) in the array\n",
    "n_rows = 20\n",
    "\n",
    "# Coordinates on the X-axis for each element in the row\n",
    "x = np.arange(18)\n",
    "\n",
    "# Plotting graphs for all rows and saving each in a separate file\n",
    "for i in range(n_rows):\n",
    "    plt.figure(figsize=(10, 6))\n",
    "    \n",
    "    # Mean values for the i-th row\n",
    "    means = mean_rmses[i, :]\n",
    "    \n",
    "    # Standard deviation (variance)\n",
    "    std_rmses = stds[i, :]\n",
    "    \n",
    "    # Plotting the graph of mean values\n",
    "    plt.plot(x + 1, means, label=f'{500 * (i + 1)} epochs')\n",
    "    \n",
    "    # Plotting confidence intervals based on standard deviation (mean ± std)\n",
    "    plt.fill_between(x + 1, means - std_rmses, means + std_rmses, alpha=0.3)\n",
    "    \n",
    "    # Graph settings\n",
    "    # plt.title(f'RMSE for 1 month ahead prediction: {means[0]:.2f} ± {std_rmses[0]:.2f}')\n",
    "    # Создаем заголовок с 20 строками для всех значений means ± std\n",
    "    # title_text = \"\\n\".join([f'Month {i+1}: {means[i]:.2f} ± {std_rmses[i]:.2f}' for i in range(len(means))])\n",
    "\n",
    "    # # Устанавливаем заголовок\n",
    "    # plt.title(title_text)\n",
    "    \n",
    "    # Сохраняем текущие границы осей\n",
    "    xmin, xmax = plt.xlim()\n",
    "    ymin, ymax = plt.ylim()\n",
    "\n",
    "    # Создаем текст справа от графика\n",
    "    title_text = \"\\n\".join([f'Month {i+1}: {means[i]:.2f} ± {std_rmses[i]:.2f}' for i in range(len(means))])\n",
    "    plt.text(xmax + 0.5, ymax, title_text, va='top', ha='left', fontsize=10)\n",
    "\n",
    "    # Устанавливаем границы осей снова, чтобы график не \"прыгал\"\n",
    "    plt.xlim(xmin, xmax)\n",
    "    plt.ylim(ymin, ymax)\n",
    "    plt.subplots_adjust(right=0.75)  # Увеличиваем правый отступ\n",
    "\n",
    "    \n",
    "\n",
    "    plt.xlabel('Month')\n",
    "    plt.ylabel('Error')\n",
    "    plt.xticks(np.arange(1, 18 + 1, 1))\n",
    "    plt.grid(True)\n",
    "    plt.legend()\n",
    "    \n",
    "    # Saving the graph to a file\n",
    "    plt.savefig(os.path.join(save_folder, f'plot_{i+1}.png'))\n",
    "    \n",
    "    # Close the current graph to avoid overlaps\n",
    "    plt.close()\n",
    "\n",
    "print(f\"Plots saved in folder: {save_folder}\")"
   ]
  },
  {
   "cell_type": "code",
   "execution_count": null,
   "metadata": {},
   "outputs": [],
   "source": []
  },
  {
   "cell_type": "code",
   "execution_count": null,
   "metadata": {},
   "outputs": [
    {
     "data": {
      "application/vnd.plotly.v1+json": {
       "config": {
        "plotlyServerURL": "https://plot.ly"
       },
       "data": [
        {
         "hoverinfo": "name+y",
         "legendgroup": "group0",
         "mode": "lines",
         "name": "500 epochs",
         "type": "scatter",
         "x": [
          1,
          2,
          3,
          4,
          5,
          6,
          7,
          8,
          9,
          10,
          11,
          12,
          13,
          14,
          15,
          16,
          17,
          18
         ],
         "y": [
          9.83936036741115,
          12.060950440290057,
          14.447889428709308,
          16.89814228138802,
          19.245426678287156,
          21.142541715350585,
          22.944273147221995,
          24.640757871035284,
          26.241124738765706,
          27.7526644644381,
          29.184498964176107,
          30.523839326648332,
          31.775820906912458,
          32.96147373780826,
          34.09529034870164,
          35.17601069577484,
          36.208510082543675,
          37.20568450390907
         ]
        },
        {
         "fill": "toself",
         "fillcolor": "rgba(0,100,80,0.2)",
         "hoverinfo": "skip",
         "legendgroup": "group0",
         "line": {
          "color": "rgba(255,255,255,0)"
         },
         "showlegend": false,
         "type": "scatter",
         "x": [
          1,
          2,
          3,
          4,
          5,
          6,
          7,
          8,
          9,
          10,
          11,
          12,
          13,
          14,
          15,
          16,
          17,
          18,
          18,
          17,
          16,
          15,
          14,
          13,
          12,
          11,
          10,
          9,
          8,
          7,
          6,
          5,
          4,
          3,
          2,
          1
         ],
         "y": [
          9.003046519954143,
          11.24364418467976,
          13.646337618950636,
          16.08242197369532,
          18.358659211787035,
          20.297098860076925,
          22.135211562277192,
          23.865779853004135,
          25.500696047407928,
          27.041360786825443,
          28.478650002683963,
          29.79270121638058,
          30.98660873863419,
          32.083312249677704,
          33.10097540117067,
          34.04290705656385,
          34.91781259612095,
          35.74039024878573,
          38.67097875903241,
          37.4992075689664,
          36.309114334985836,
          35.089605296232605,
          33.83963522593882,
          32.565033075190726,
          31.254977436916086,
          29.89034792566825,
          28.46396814205076,
          26.981553430123483,
          25.415735889066433,
          23.7533347321668,
          21.987984570624246,
          20.132194144787277,
          17.71386258908072,
          15.24944123846798,
          12.878256695900355,
          10.675674214868156
         ]
        },
        {
         "hoverinfo": "name+y",
         "legendgroup": "group1",
         "mode": "lines",
         "name": "1000 epochs",
         "type": "scatter",
         "x": [
          1,
          2,
          3,
          4,
          5,
          6,
          7,
          8,
          9,
          10,
          11,
          12,
          13,
          14,
          15,
          16,
          17,
          18
         ],
         "y": [
          6.207519489375274,
          8.303777974504044,
          10.517491920191917,
          12.726948360379419,
          14.605782395833055,
          16.438902673955432,
          18.138415193007695,
          19.725287364202092,
          21.271280365224264,
          22.776281504859625,
          24.218700368681702,
          25.5521780195745,
          26.763960654666686,
          27.897307564262118,
          28.97915523738922,
          29.995670254604608,
          30.94501413415612,
          31.856348861994853
         ]
        },
        {
         "fill": "toself",
         "fillcolor": "rgba(0,100,80,0.2)",
         "hoverinfo": "skip",
         "legendgroup": "group1",
         "line": {
          "color": "rgba(255,255,255,0)"
         },
         "showlegend": false,
         "type": "scatter",
         "x": [
          1,
          2,
          3,
          4,
          5,
          6,
          7,
          8,
          9,
          10,
          11,
          12,
          13,
          14,
          15,
          16,
          17,
          18,
          18,
          17,
          16,
          15,
          14,
          13,
          12,
          11,
          10,
          9,
          8,
          7,
          6,
          5,
          4,
          3,
          2,
          1
         ],
         "y": [
          5.575236149121855,
          7.542503053396183,
          9.598248243306598,
          11.647141185949318,
          13.394781896245851,
          15.075059560671466,
          16.603047281027933,
          17.997679527160745,
          19.33177335259901,
          20.610459782725865,
          21.810692144520694,
          22.88303950731695,
          23.81525366784817,
          24.65468192153365,
          25.431158142398623,
          26.129784428265253,
          26.74879202138255,
          27.321168904192717,
          36.39152881979699,
          35.141236246929694,
          33.86155608094396,
          32.52715233237982,
          31.139933206990584,
          29.7126676414852,
          28.221316531832052,
          26.62670859284271,
          24.942103226993385,
          23.210787377849517,
          21.45289520124344,
          19.673783104987457,
          17.8027457872394,
          15.816782895420259,
          13.80675553480952,
          11.436735597077236,
          9.065052895611904,
          6.8398028296286935
         ]
        },
        {
         "hoverinfo": "name+y",
         "legendgroup": "group2",
         "mode": "lines",
         "name": "1500 epochs",
         "type": "scatter",
         "x": [
          1,
          2,
          3,
          4,
          5,
          6,
          7,
          8,
          9,
          10,
          11,
          12,
          13,
          14,
          15,
          16,
          17,
          18
         ],
         "y": [
          4.2533955244715225,
          6.016930063326152,
          7.794824131513506,
          9.586774078767947,
          11.187874319206953,
          12.716022184850434,
          14.093747544492459,
          15.335168412284194,
          16.50712375786424,
          17.618778728512638,
          18.64782025538637,
          19.546949774122794,
          20.304666452668556,
          20.96640763678592,
          21.564229641671183,
          22.09195010791533,
          22.550000066628098,
          22.960538089746564
         ]
        },
        {
         "fill": "toself",
         "fillcolor": "rgba(0,100,80,0.2)",
         "hoverinfo": "skip",
         "legendgroup": "group2",
         "line": {
          "color": "rgba(255,255,255,0)"
         },
         "showlegend": false,
         "type": "scatter",
         "x": [
          1,
          2,
          3,
          4,
          5,
          6,
          7,
          8,
          9,
          10,
          11,
          12,
          13,
          14,
          15,
          16,
          17,
          18,
          18,
          17,
          16,
          15,
          14,
          13,
          12,
          11,
          10,
          9,
          8,
          7,
          6,
          5,
          4,
          3,
          2,
          1
         ],
         "y": [
          3.915539115778619,
          5.630488645612959,
          7.346762858090192,
          9.083606687743073,
          10.65348536598694,
          12.148648214529622,
          13.49348632450892,
          14.7008497614566,
          15.835764672999456,
          16.908503508306993,
          17.897075892564285,
          18.756500178228485,
          19.478034937099682,
          20.107081813347268,
          20.67484870798158,
          21.174667489429304,
          21.60608127028548,
          21.990119951862457,
          23.93095622763067,
          23.493918862970716,
          23.009232726401358,
          22.453610575360784,
          21.825733460224573,
          21.13129796823743,
          20.337399370017103,
          19.398564618208457,
          18.329053948718283,
          17.17848284272902,
          15.969487063111787,
          14.694008764475997,
          13.283396155171246,
          11.722263272426966,
          10.089941469792821,
          8.242885404936821,
          6.403371481039344,
          4.591251933164426
         ]
        },
        {
         "hoverinfo": "name+y",
         "legendgroup": "group3",
         "mode": "lines",
         "name": "2000 epochs",
         "type": "scatter",
         "x": [
          1,
          2,
          3,
          4,
          5,
          6,
          7,
          8,
          9,
          10,
          11,
          12,
          13,
          14,
          15,
          16,
          17,
          18
         ],
         "y": [
          3.452816342749507,
          5.150746578683277,
          6.819517562456865,
          8.516998190060148,
          10.086337357607187,
          11.615099905163218,
          13.016201950275926,
          14.305239753540437,
          15.546110170972828,
          16.743293239518763,
          17.87179209603342,
          18.886628001844976,
          19.77758816674353,
          20.588319249570997,
          21.350701289490853,
          22.063084263329063,
          22.72437305412514,
          23.34348618893454
         ]
        },
        {
         "fill": "toself",
         "fillcolor": "rgba(0,100,80,0.2)",
         "hoverinfo": "skip",
         "legendgroup": "group3",
         "line": {
          "color": "rgba(255,255,255,0)"
         },
         "showlegend": false,
         "type": "scatter",
         "x": [
          1,
          2,
          3,
          4,
          5,
          6,
          7,
          8,
          9,
          10,
          11,
          12,
          13,
          14,
          15,
          16,
          17,
          18,
          18,
          17,
          16,
          15,
          14,
          13,
          12,
          11,
          10,
          9,
          8,
          7,
          6,
          5,
          4,
          3,
          2,
          1
         ],
         "y": [
          3.3283671237147394,
          5.013325624247816,
          6.652189732161848,
          8.309466462924936,
          9.839263112271198,
          11.324217385243053,
          12.67874461305835,
          13.919958034131128,
          15.111746767805835,
          16.260154325884482,
          17.34046787547106,
          18.307716075572507,
          19.151732997640632,
          19.91617545103294,
          20.632898171638693,
          21.2994277984553,
          21.913878545015415,
          22.485664322602325,
          24.201308055266757,
          23.53486756323487,
          22.826740728202825,
          22.068504407343013,
          21.260463048109052,
          20.40344333584643,
          19.465539928117444,
          18.40311631659578,
          17.226432153153045,
          15.98047357413982,
          14.690521472949747,
          13.353659287493501,
          11.905982425083383,
          10.333411602943176,
          8.72452991719536,
          6.986845392751882,
          5.288167533118738,
          3.5772655617842744
         ]
        },
        {
         "hoverinfo": "name+y",
         "legendgroup": "group4",
         "mode": "lines",
         "name": "2500 epochs",
         "type": "scatter",
         "x": [
          1,
          2,
          3,
          4,
          5,
          6,
          7,
          8,
          9,
          10,
          11,
          12,
          13,
          14,
          15,
          16,
          17,
          18
         ],
         "y": [
          3.1201571721144843,
          4.815293369686159,
          6.449475907824785,
          8.109332263546285,
          9.667342114498556,
          11.206349160281144,
          12.632028836225464,
          13.963002559858026,
          15.264697094171927,
          16.53881496246205,
          17.75624244187384,
          18.86792715684991,
          19.859173860914975,
          20.771956707391364,
          21.639264957994687,
          22.463394033107335,
          23.24522891928941,
          23.989924102078046
         ]
        },
        {
         "fill": "toself",
         "fillcolor": "rgba(0,100,80,0.2)",
         "hoverinfo": "skip",
         "legendgroup": "group4",
         "line": {
          "color": "rgba(255,255,255,0)"
         },
         "showlegend": false,
         "type": "scatter",
         "x": [
          1,
          2,
          3,
          4,
          5,
          6,
          7,
          8,
          9,
          10,
          11,
          12,
          13,
          14,
          15,
          16,
          17,
          18,
          18,
          17,
          16,
          15,
          14,
          13,
          12,
          11,
          10,
          9,
          8,
          7,
          6,
          5,
          4,
          3,
          2,
          1
         ],
         "y": [
          3.043046761053597,
          4.715528901667817,
          6.300715043874979,
          7.8975173024835374,
          9.38987935052103,
          10.85765654622165,
          12.210053770571994,
          13.467552243633342,
          14.697396750479314,
          15.903077717895885,
          17.05493629649827,
          18.102788248040508,
          19.031657990006373,
          19.884237932791905,
          20.694023956870286,
          21.46290730485284,
          22.19147110362557,
          22.885287755621682,
          25.09456044853441,
          24.29898673495325,
          23.46388076136183,
          22.584505959119088,
          21.659675481990824,
          20.686689731823577,
          19.63306606565931,
          18.457548587249413,
          17.174552207028217,
          15.83199743786454,
          14.45845287608271,
          13.054003901878934,
          11.555041774340639,
          9.944804878476083,
          8.321147224609033,
          6.598236771774591,
          4.9150578377045,
          3.1972675831753716
         ]
        },
        {
         "hoverinfo": "name+y",
         "legendgroup": "group5",
         "mode": "lines",
         "name": "3000 epochs",
         "type": "scatter",
         "x": [
          1,
          2,
          3,
          4,
          5,
          6,
          7,
          8,
          9,
          10,
          11,
          12,
          13,
          14,
          15,
          16,
          17,
          18
         ],
         "y": [
          2.945057973430694,
          4.658148949986055,
          6.2864319529383055,
          7.932855480620023,
          9.491789950331619,
          11.04248846103658,
          12.48708775523212,
          13.846832632868988,
          15.189941296365335,
          16.516661014780748,
          17.794174013689005,
          18.968342290013055,
          20.019369073140204,
          20.98846636759022,
          21.909988409748085,
          22.7884599367312,
          23.626255204820094,
          24.42719585921177
         ]
        },
        {
         "fill": "toself",
         "fillcolor": "rgba(0,100,80,0.2)",
         "hoverinfo": "skip",
         "legendgroup": "group5",
         "line": {
          "color": "rgba(255,255,255,0)"
         },
         "showlegend": false,
         "type": "scatter",
         "x": [
          1,
          2,
          3,
          4,
          5,
          6,
          7,
          8,
          9,
          10,
          11,
          12,
          13,
          14,
          15,
          16,
          17,
          18,
          18,
          17,
          16,
          15,
          14,
          13,
          12,
          11,
          10,
          9,
          8,
          7,
          6,
          5,
          4,
          3,
          2,
          1
         ],
         "y": [
          2.8747194255069597,
          4.559559533690095,
          6.13247633362781,
          7.707100767194374,
          9.189990440877175,
          10.656833743888527,
          12.013803452945268,
          13.28465681722393,
          14.539994675285634,
          15.782476850349326,
          16.979101595664698,
          18.074384004145553,
          19.048038978556374,
          19.942317373544366,
          20.79244210800246,
          21.60253979822033,
          22.37467197690565,
          23.1132522267603,
          25.741139491663244,
          24.87783843273454,
          23.97438007524207,
          23.027534711493708,
          22.034615361636074,
          20.990699167724035,
          19.862300575880557,
          18.609246431713313,
          17.25084517921217,
          15.839887917445036,
          14.409008448514047,
          12.96037205751897,
          11.428143178184634,
          9.793589459786062,
          8.158610194045671,
          6.440387572248801,
          4.756738366282015,
          3.0153965213544285
         ]
        },
        {
         "hoverinfo": "name+y",
         "legendgroup": "group6",
         "mode": "lines",
         "name": "3500 epochs",
         "type": "scatter",
         "x": [
          1,
          2,
          3,
          4,
          5,
          6,
          7,
          8,
          9,
          10,
          11,
          12,
          13,
          14,
          15,
          16,
          17,
          18
         ],
         "y": [
          2.82439263166769,
          4.554937554944877,
          6.179232171492575,
          7.809839822450543,
          9.359773374194392,
          10.904136395493587,
          12.344474465234779,
          13.705289430866456,
          15.05858003640043,
          16.404604183626983,
          17.707750171296713,
          18.90885136564219,
          19.983111406438763,
          20.972162194617972,
          21.91285585053133,
          22.81154183675977,
          23.671459328405746,
          24.495031986334006
         ]
        },
        {
         "fill": "toself",
         "fillcolor": "rgba(0,100,80,0.2)",
         "hoverinfo": "skip",
         "legendgroup": "group6",
         "line": {
          "color": "rgba(255,255,255,0)"
         },
         "showlegend": false,
         "type": "scatter",
         "x": [
          1,
          2,
          3,
          4,
          5,
          6,
          7,
          8,
          9,
          10,
          11,
          12,
          13,
          14,
          15,
          16,
          17,
          18,
          18,
          17,
          16,
          15,
          14,
          13,
          12,
          11,
          10,
          9,
          8,
          7,
          6,
          5,
          4,
          3,
          2,
          1
         ],
         "y": [
          2.753118283692755,
          4.455203745878096,
          6.028124856342885,
          7.5923489092430865,
          9.07118917334757,
          10.535987666382972,
          11.891326047344418,
          13.164113283099875,
          14.429188690906287,
          15.689334032261241,
          16.90884227952918,
          18.026890175756694,
          19.018022290596303,
          19.925216187925447,
          20.786592177305327,
          21.60837453886054,
          22.393680770096932,
          23.14569687705779,
          25.84436709561022,
          24.94923788671456,
          24.014709134658997,
          23.039119523757332,
          22.019108201310498,
          20.948200522281223,
          19.790812555527683,
          18.506658063064247,
          17.119874334992726,
          15.687971381894574,
          14.246465578633037,
          12.79762288312514,
          11.272285124604203,
          9.648357575041214,
          8.027330735658001,
          6.330339486642265,
          4.654671364011659,
          2.8956669796426255
         ]
        },
        {
         "hoverinfo": "name+y",
         "legendgroup": "group7",
         "mode": "lines",
         "name": "4000 epochs",
         "type": "scatter",
         "x": [
          1,
          2,
          3,
          4,
          5,
          6,
          7,
          8,
          9,
          10,
          11,
          12,
          13,
          14,
          15,
          16,
          17,
          18
         ],
         "y": [
          2.7377054386045687,
          4.49317293922541,
          6.128050499352068,
          7.759120090537769,
          9.312736229073703,
          10.85968569317101,
          12.302246815361832,
          13.66775897526775,
          15.03150919999131,
          16.394150063438737,
          17.718165423261755,
          18.940110121719798,
          20.030633997597665,
          21.032250259260646,
          21.98493531977968,
          22.896973258607126,
          23.7724297524763,
          24.612151902747897
         ]
        },
        {
         "fill": "toself",
         "fillcolor": "rgba(0,100,80,0.2)",
         "hoverinfo": "skip",
         "legendgroup": "group7",
         "line": {
          "color": "rgba(255,255,255,0)"
         },
         "showlegend": false,
         "type": "scatter",
         "x": [
          1,
          2,
          3,
          4,
          5,
          6,
          7,
          8,
          9,
          10,
          11,
          12,
          13,
          14,
          15,
          16,
          17,
          18,
          18,
          17,
          16,
          15,
          14,
          13,
          12,
          11,
          10,
          9,
          8,
          7,
          6,
          5,
          4,
          3,
          2,
          1
         ],
         "y": [
          2.6610815770651643,
          4.3785124509661735,
          5.949279082442369,
          7.4993876596805,
          8.968211254199524,
          10.420942811786643,
          11.76288655886795,
          13.024248523336784,
          14.284171888263094,
          15.54650508013496,
          16.773777263884558,
          17.900429854611016,
          18.895918055083047,
          19.80454354173416,
          20.668098769371184,
          21.49471666430881,
          22.288181884786734,
          23.05016927726843,
          26.174134528227363,
          25.256677620165863,
          24.29922985290544,
          23.301771870188176,
          22.259956976787134,
          21.165349940112282,
          19.97979038882858,
          18.662553582638953,
          17.241795046742514,
          15.778846511719527,
          14.311269427198717,
          12.841607071855714,
          11.298428574555375,
          9.657261203947883,
          8.018852521395036,
          6.306821916261767,
          4.607833427484646,
          2.814329300143973
         ]
        },
        {
         "hoverinfo": "name+y",
         "legendgroup": "group8",
         "mode": "lines",
         "name": "4500 epochs",
         "type": "scatter",
         "x": [
          1,
          2,
          3,
          4,
          5,
          6,
          7,
          8,
          9,
          10,
          11,
          12,
          13,
          14,
          15,
          16,
          17,
          18
         ],
         "y": [
          2.6697982611826596,
          4.4484222316385855,
          6.093308255032378,
          7.722058333944366,
          9.272055495697265,
          10.810402200070337,
          12.241642703329745,
          13.596202367288123,
          14.95275556460739,
          16.313185219712047,
          17.639087702101907,
          18.863537959194833,
          19.953094122412132,
          20.95137190976683,
          21.901699008800872,
          22.8140523857099,
          23.69318536757624,
          24.538513306290433
         ]
        },
        {
         "fill": "toself",
         "fillcolor": "rgba(0,100,80,0.2)",
         "hoverinfo": "skip",
         "legendgroup": "group8",
         "line": {
          "color": "rgba(255,255,255,0)"
         },
         "showlegend": false,
         "type": "scatter",
         "x": [
          1,
          2,
          3,
          4,
          5,
          6,
          7,
          8,
          9,
          10,
          11,
          12,
          13,
          14,
          15,
          16,
          17,
          18,
          18,
          17,
          16,
          15,
          14,
          13,
          12,
          11,
          10,
          9,
          8,
          7,
          6,
          5,
          4,
          3,
          2,
          1
         ],
         "y": [
          2.587566009676244,
          4.322992628499402,
          5.89961527327618,
          7.445682701494897,
          8.910673704060159,
          10.354016484551678,
          11.68292964251683,
          12.930804804411313,
          14.180375878940492,
          15.43650523632025,
          16.661162650982778,
          17.785760745112576,
          18.775744903684945,
          19.676691450170612,
          20.534198749781876,
          21.358559926514406,
          22.154467478106,
          22.922053446873065,
          26.1549731657078,
          25.231903257046483,
          24.269544844905393,
          23.269199267819868,
          22.22605236936305,
          21.13044334113932,
          19.94131517327709,
          18.617012753221037,
          17.189865203103842,
          15.725135250274288,
          14.261599930164934,
          12.80035576414266,
          11.266787915588996,
          9.63343728733437,
          7.998433966393835,
          6.2870012367885755,
          4.573851834777769,
          2.752030512689075
         ]
        },
        {
         "hoverinfo": "name+y",
         "legendgroup": "group9",
         "mode": "lines",
         "name": "5000 epochs",
         "type": "scatter",
         "x": [
          1,
          2,
          3,
          4,
          5,
          6,
          7,
          8,
          9,
          10,
          11,
          12,
          13,
          14,
          15,
          16,
          17,
          18
         ],
         "y": [
          2.620799932074489,
          4.428748307580555,
          6.094772874466577,
          7.734477745038713,
          9.29270607574763,
          10.83334446341926,
          12.263556800730003,
          13.615763343555255,
          14.970677222638406,
          16.331371300866774,
          17.659423008395336,
          18.885510154727836,
          19.972714891845033,
          20.965196092026684,
          21.908802307392076,
          22.814337368670607,
          23.68689428917808,
          24.52536752040226
         ]
        },
        {
         "fill": "toself",
         "fillcolor": "rgba(0,100,80,0.2)",
         "hoverinfo": "skip",
         "legendgroup": "group9",
         "line": {
          "color": "rgba(255,255,255,0)"
         },
         "showlegend": false,
         "type": "scatter",
         "x": [
          1,
          2,
          3,
          4,
          5,
          6,
          7,
          8,
          9,
          10,
          11,
          12,
          13,
          14,
          15,
          16,
          17,
          18,
          18,
          17,
          16,
          15,
          14,
          13,
          12,
          11,
          10,
          9,
          8,
          7,
          6,
          5,
          4,
          3,
          2,
          1
         ],
         "y": [
          2.534208105602395,
          4.29138295724121,
          5.8790180502903935,
          7.42454650848203,
          8.884830247063384,
          10.315432567573193,
          11.625486720014369,
          12.850526930962332,
          14.076457657608454,
          15.310348930862652,
          16.515068271691657,
          17.61997893524783,
          18.5870823731234,
          19.46313946127617,
          20.297218492642006,
          21.10110275406196,
          21.88012310758886,
          22.63372757318164,
          26.417007467622877,
          25.4936654707673,
          24.527571983279255,
          23.520386122142146,
          22.467252722777197,
          21.358347410566665,
          20.151041374207843,
          18.803777745099016,
          17.352393670870896,
          15.864896787668357,
          14.380999756148178,
          12.901626881445637,
          11.351256359265328,
          9.700581904431875,
          8.044408981595396,
          6.310527698642761,
          4.5661136579199,
          2.707391758546583
         ]
        },
        {
         "hoverinfo": "name+y",
         "legendgroup": "group10",
         "mode": "lines",
         "name": "5500 epochs",
         "type": "scatter",
         "x": [
          1,
          2,
          3,
          4,
          5,
          6,
          7,
          8,
          9,
          10,
          11,
          12,
          13,
          14,
          15,
          16,
          17,
          18
         ],
         "y": [
          2.585833281152448,
          4.427953822326651,
          6.123743729664052,
          7.784850232647293,
          9.361243645128088,
          10.91371978814073,
          12.352155472316253,
          13.709996982070363,
          15.068866762065571,
          16.4329312878391,
          17.764636921956733,
          18.993582804443122,
          20.080167064800527,
          21.068769787717518,
          22.007279860827353,
          22.90706585949762,
          23.773456337803847,
          24.605646467891084
         ]
        },
        {
         "fill": "toself",
         "fillcolor": "rgba(0,100,80,0.2)",
         "hoverinfo": "skip",
         "legendgroup": "group10",
         "line": {
          "color": "rgba(255,255,255,0)"
         },
         "showlegend": false,
         "type": "scatter",
         "x": [
          1,
          2,
          3,
          4,
          5,
          6,
          7,
          8,
          9,
          10,
          11,
          12,
          13,
          14,
          15,
          16,
          17,
          18,
          18,
          17,
          16,
          15,
          14,
          13,
          12,
          11,
          10,
          9,
          8,
          7,
          6,
          5,
          4,
          3,
          2,
          1
         ],
         "y": [
          2.4888938659267765,
          4.26178714551487,
          5.852092157704621,
          7.384863250828657,
          8.825179899538657,
          10.227059353378984,
          11.502807096754243,
          12.690719102383314,
          13.88016539755163,
          15.080596463510844,
          16.256182289236513,
          17.334830548228513,
          18.2751179391604,
          19.124541734350437,
          19.93503198931182,
          20.719179416148652,
          21.482516767054626,
          22.223987552164367,
          26.9873053836178,
          26.064395908553067,
          25.09495230284659,
          24.079527732342886,
          23.012997841084598,
          21.885216190440655,
          20.65233506065773,
          19.273091554676952,
          17.785266112167356,
          16.25756812657951,
          14.729274861757412,
          13.201503847878264,
          11.600380222902476,
          9.897307390717518,
          8.18483721446593,
          6.395395301623483,
          4.594120499138431,
          2.6827726963781195
         ]
        },
        {
         "hoverinfo": "name+y",
         "legendgroup": "group11",
         "mode": "lines",
         "name": "6000 epochs",
         "type": "scatter",
         "x": [
          1,
          2,
          3,
          4,
          5,
          6,
          7,
          8,
          9,
          10,
          11,
          12,
          13,
          14,
          15,
          16,
          17,
          18
         ],
         "y": [
          2.553086593572542,
          4.421996003915333,
          6.138002828715962,
          7.808808525738457,
          9.389484462338444,
          10.937911422049067,
          12.367016353657714,
          13.710912526890025,
          15.05197190910579,
          16.396087924676273,
          17.70791179673865,
          18.917540976964208,
          19.98361494759999,
          20.950883390305023,
          21.869165475919157,
          22.750069996377565,
          23.59887540704794,
          24.415540115472744
         ]
        },
        {
         "fill": "toself",
         "fillcolor": "rgba(0,100,80,0.2)",
         "hoverinfo": "skip",
         "legendgroup": "group11",
         "line": {
          "color": "rgba(255,255,255,0)"
         },
         "showlegend": false,
         "type": "scatter",
         "x": [
          1,
          2,
          3,
          4,
          5,
          6,
          7,
          8,
          9,
          10,
          11,
          12,
          13,
          14,
          15,
          16,
          17,
          18,
          18,
          17,
          16,
          15,
          14,
          13,
          12,
          11,
          10,
          9,
          8,
          7,
          6,
          5,
          4,
          3,
          2,
          1
         ],
         "y": [
          2.4582426350305395,
          4.263573490709521,
          5.885320188204343,
          7.445386510531705,
          8.91136588375421,
          10.331629351846617,
          11.620524100669698,
          12.815608719517387,
          14.005390420941302,
          15.199924144004754,
          16.365733926050094,
          17.432059392246043,
          18.355975871934543,
          19.18480344407662,
          19.972272960775925,
          20.73182222935948,
          21.469590519204488,
          22.18553122176702,
          26.645549009178467,
          25.728160294891396,
          24.76831776339565,
          23.76605799106239,
          22.716963336533425,
          21.611254023265435,
          20.403022561682373,
          19.050089667427205,
          17.592251705347792,
          16.09855339727028,
          14.606216334262664,
          13.11350860664573,
          11.544193492251518,
          9.86760304092268,
          8.17223054094521,
          6.390685469227581,
          4.580418517121145,
          2.647930552114545
         ]
        },
        {
         "hoverinfo": "name+y",
         "legendgroup": "group12",
         "mode": "lines",
         "name": "6500 epochs",
         "type": "scatter",
         "x": [
          1,
          2,
          3,
          4,
          5,
          6,
          7,
          8,
          9,
          10,
          11,
          12,
          13,
          14,
          15,
          16,
          17,
          18
         ],
         "y": [
          2.525587959656558,
          4.421193383427929,
          6.158212168747722,
          7.840395916531703,
          9.427368478124283,
          10.973882491080543,
          12.39583205791079,
          13.727541145567622,
          15.051865661586366,
          16.37658577284014,
          17.669143807685767,
          18.86110148842564,
          19.910124372003878,
          20.861475902582534,
          21.76688387127139,
          22.63832878571492,
          23.48097356062926,
          24.29537666285567
         ]
        },
        {
         "fill": "toself",
         "fillcolor": "rgba(0,100,80,0.2)",
         "hoverinfo": "skip",
         "legendgroup": "group12",
         "line": {
          "color": "rgba(255,255,255,0)"
         },
         "showlegend": false,
         "type": "scatter",
         "x": [
          1,
          2,
          3,
          4,
          5,
          6,
          7,
          8,
          9,
          10,
          11,
          12,
          13,
          14,
          15,
          16,
          17,
          18,
          18,
          17,
          16,
          15,
          14,
          13,
          12,
          11,
          10,
          9,
          8,
          7,
          6,
          5,
          4,
          3,
          2,
          1
         ],
         "y": [
          2.4286818961861223,
          4.252195890626759,
          5.884515563072423,
          7.442034353689538,
          8.899345154309248,
          10.303308178633017,
          11.570677445216411,
          12.739947125761901,
          13.900773271260569,
          15.065192939859832,
          16.20223040367778,
          17.24176612963896,
          18.138920370845064,
          18.941345169924332,
          19.704775309771023,
          20.44304273903301,
          21.162282420923134,
          21.862664757786987,
          26.728088567924353,
          25.799664700335384,
          24.833614832396826,
          23.828992432771756,
          22.781606635240735,
          21.681328373162692,
          20.480436847212317,
          19.136057211693753,
          17.687978605820447,
          16.202958051912162,
          14.715135165373344,
          13.220986670605168,
          11.644456803528069,
          9.955391801939317,
          8.238757479373868,
          6.431908774423022,
          4.590190876229099,
          2.6224940231269938
         ]
        },
        {
         "hoverinfo": "name+y",
         "legendgroup": "group13",
         "mode": "lines",
         "name": "7000 epochs",
         "type": "scatter",
         "x": [
          1,
          2,
          3,
          4,
          5,
          6,
          7,
          8,
          9,
          10,
          11,
          12,
          13,
          14,
          15,
          16,
          17,
          18
         ],
         "y": [
          2.5041668302477356,
          4.430192483741348,
          6.195911551244029,
          7.901306729769598,
          9.509775293962385,
          11.072133536796024,
          12.506968435956889,
          13.847852677597652,
          15.17671131429509,
          16.50249133500025,
          17.79549395096317,
          18.989721172149412,
          20.042837683625105,
          21.000265536385868,
          21.914753163094584,
          22.798149043467685,
          23.655151891938086,
          24.4869048945483
         ]
        },
        {
         "fill": "toself",
         "fillcolor": "rgba(0,100,80,0.2)",
         "hoverinfo": "skip",
         "legendgroup": "group13",
         "line": {
          "color": "rgba(255,255,255,0)"
         },
         "showlegend": false,
         "type": "scatter",
         "x": [
          1,
          2,
          3,
          4,
          5,
          6,
          7,
          8,
          9,
          10,
          11,
          12,
          13,
          14,
          15,
          16,
          17,
          18,
          18,
          17,
          16,
          15,
          14,
          13,
          12,
          11,
          10,
          9,
          8,
          7,
          6,
          5,
          4,
          3,
          2,
          1
         ],
         "y": [
          2.4110506748884593,
          4.266081902663687,
          5.9291455017630765,
          7.511339928119933,
          8.988468610167795,
          10.405066466687682,
          11.680284789109251,
          12.852151414015484,
          14.009564704276315,
          15.165859249176114,
          16.293305163166927,
          17.324452667174256,
          18.21408428399174,
          19.00912821804554,
          19.765735523790877,
          20.49771584580306,
          21.21108998361186,
          21.90671353130546,
          27.06709625779114,
          26.099213800264312,
          25.09858224113231,
          24.06377080239829,
          22.991402854726196,
          21.871591083258473,
          20.65498967712457,
          19.297682738759413,
          17.83912342082439,
          16.343857924313866,
          14.84355394117982,
          13.333652082804527,
          11.739200606904365,
          10.031081977756974,
          8.291273531419261,
          6.462677600724981,
          4.59430306481901,
          2.597282985607012
         ]
        },
        {
         "hoverinfo": "name+y",
         "legendgroup": "group14",
         "mode": "lines",
         "name": "7500 epochs",
         "type": "scatter",
         "x": [
          1,
          2,
          3,
          4,
          5,
          6,
          7,
          8,
          9,
          10,
          11,
          12,
          13,
          14,
          15,
          16,
          17,
          18
         ],
         "y": [
          2.486588983587114,
          4.444890819546085,
          6.243456129170481,
          7.97867035429878,
          9.617402120946211,
          11.205742753682136,
          12.664693601303659,
          14.02649305252933,
          15.371385720758354,
          16.709172512582448,
          18.01307565256612,
          19.220158366203254,
          20.28865038193358,
          21.26395944109693,
          22.19957139465022,
          23.10716821964339,
          23.990852985552028,
          24.85211599637414
         ]
        },
        {
         "fill": "toself",
         "fillcolor": "rgba(0,100,80,0.2)",
         "hoverinfo": "skip",
         "legendgroup": "group14",
         "line": {
          "color": "rgba(255,255,255,0)"
         },
         "showlegend": false,
         "type": "scatter",
         "x": [
          1,
          2,
          3,
          4,
          5,
          6,
          7,
          8,
          9,
          10,
          11,
          12,
          13,
          14,
          15,
          16,
          17,
          18,
          18,
          17,
          16,
          15,
          14,
          13,
          12,
          11,
          10,
          9,
          8,
          7,
          6,
          5,
          4,
          3,
          2,
          1
         ],
         "y": [
          2.3968072889034007,
          4.28507011243965,
          5.979766319808756,
          7.58758769398658,
          9.086649592358171,
          10.519206471678617,
          11.807256742494436,
          12.98761068719182,
          14.148054593760918,
          15.30290485616295,
          16.427580033714527,
          17.457899305633713,
          18.348584636979894,
          19.14576229773724,
          19.905934717324758,
          20.64297866818824,
          21.362934322303584,
          22.06733489015754,
          27.636897102590737,
          26.61877164880047,
          25.571357771098544,
          24.493208071975683,
          23.38215658445662,
          22.228716126887264,
          20.982417426772795,
          19.59857127141771,
          18.115440169001946,
          16.59471684775579,
          15.065375417866841,
          13.522130460112882,
          11.892279035685656,
          10.148154649534252,
          8.369753014610978,
          6.507145938532205,
          4.604711526652521,
          2.5763706782708278
         ]
        },
        {
         "hoverinfo": "name+y",
         "legendgroup": "group15",
         "mode": "lines",
         "name": "8000 epochs",
         "type": "scatter",
         "x": [
          1,
          2,
          3,
          4,
          5,
          6,
          7,
          8,
          9,
          10,
          11,
          12,
          13,
          14,
          15,
          16,
          17,
          18
         ],
         "y": [
          2.468516319486202,
          4.4549616034739925,
          6.280945629323946,
          8.039801006393485,
          9.702466793138255,
          11.309962595415248,
          12.785558472288189,
          14.160231069347976,
          15.51290714813783,
          16.854713213414964,
          18.162144970451052,
          19.3756426333434,
          20.45429127322752,
          21.44374091550285,
          22.398360517580986,
          23.329620245158054,
          24.24066499873044,
          25.132608309309695
         ]
        },
        {
         "fill": "toself",
         "fillcolor": "rgba(0,100,80,0.2)",
         "hoverinfo": "skip",
         "legendgroup": "group15",
         "line": {
          "color": "rgba(255,255,255,0)"
         },
         "showlegend": false,
         "type": "scatter",
         "x": [
          1,
          2,
          3,
          4,
          5,
          6,
          7,
          8,
          9,
          10,
          11,
          12,
          13,
          14,
          15,
          16,
          17,
          18,
          18,
          17,
          16,
          15,
          14,
          13,
          12,
          11,
          10,
          9,
          8,
          7,
          6,
          5,
          4,
          3,
          2,
          1
         ],
         "y": [
          2.3801096190405544,
          4.291311142559723,
          6.0043145003695315,
          7.623275594367407,
          9.129327751576222,
          10.563048565017864,
          11.849080463710873,
          13.02366275325005,
          14.174385900113952,
          15.31716815395158,
          16.430234335844467,
          17.451870081847858,
          18.33661598888519,
          19.130087869846257,
          19.8891690964417,
          20.627463834316174,
          21.350519130904726,
          22.06023129695834,
          28.204985321661052,
          27.130810866556157,
          26.031776655999934,
          24.90755193872027,
          23.757393961159444,
          22.571966557569848,
          21.299415184838942,
          19.894055605057638,
          18.392258272878347,
          16.851428396161705,
          15.296799385445901,
          13.722036480865505,
          12.056876625812633,
          10.275605834700288,
          8.456326418419565,
          6.55757675827836,
          4.618612064388262,
          2.55692301993185
         ]
        },
        {
         "hoverinfo": "name+y",
         "legendgroup": "group16",
         "mode": "lines",
         "name": "8500 epochs",
         "type": "scatter",
         "x": [
          1,
          2,
          3,
          4,
          5,
          6,
          7,
          8,
          9,
          10,
          11,
          12,
          13,
          14,
          15,
          16,
          17,
          18
         ],
         "y": [
          2.449456128569261,
          4.461607514840749,
          6.31230034492407,
          8.091918759750218,
          9.776043579680355,
          11.400020179318526,
          12.889285732940202,
          14.273602852805338,
          15.630782777174424,
          16.973351018301855,
          18.28092574051397,
          19.497240971569802,
          20.58185263406756,
          21.579921159922794,
          22.546193540207536,
          23.491961959951887,
          24.419642178333174,
          25.32992307720537
         ]
        },
        {
         "fill": "toself",
         "fillcolor": "rgba(0,100,80,0.2)",
         "hoverinfo": "skip",
         "legendgroup": "group16",
         "line": {
          "color": "rgba(255,255,255,0)"
         },
         "showlegend": false,
         "type": "scatter",
         "x": [
          1,
          2,
          3,
          4,
          5,
          6,
          7,
          8,
          9,
          10,
          11,
          12,
          13,
          14,
          15,
          16,
          17,
          18,
          18,
          17,
          16,
          15,
          14,
          13,
          12,
          11,
          10,
          9,
          8,
          7,
          6,
          5,
          4,
          3,
          2,
          1
         ],
         "y": [
          2.3589825088086362,
          4.290723181207761,
          6.020466994286801,
          7.650252503178445,
          9.166886249657892,
          10.605867686985809,
          11.894575588964805,
          13.067939015233243,
          14.211939236267348,
          15.343733779180937,
          16.444691144478234,
          17.45635204203676,
          18.333281000352347,
          19.120269128723173,
          19.87473102006825,
          20.610630651630974,
          21.33374230032686,
          22.04662075916558,
          28.613225395245156,
          27.505542056339486,
          26.3732932682728,
          25.217656060346822,
          24.039573191122415,
          22.83042426778277,
          21.538129901102845,
          20.117160336549702,
          18.602968257422773,
          17.0496263180815,
          15.479266690377433,
          13.883995876915598,
          12.194172671651243,
          10.385200909702817,
          8.533585016321991,
          6.604133695561339,
          4.6324918484737365,
          2.539929748329886
         ]
        },
        {
         "hoverinfo": "name+y",
         "legendgroup": "group17",
         "mode": "lines",
         "name": "9000 epochs",
         "type": "scatter",
         "x": [
          1,
          2,
          3,
          4,
          5,
          6,
          7,
          8,
          9,
          10,
          11,
          12,
          13,
          14,
          15,
          16,
          17,
          18
         ],
         "y": [
          2.4277697987631837,
          4.456455088706467,
          6.319030672279686,
          8.105441219249103,
          9.796940457982467,
          11.424647930488232,
          12.916352812727302,
          14.301366277072885,
          15.657038492943768,
          16.997189447721606,
          18.304040106160095,
          19.523913653310935,
          20.616590711492087,
          21.626939889054206,
          22.610135002783448,
          23.577034259318495,
          24.529015140390513,
          25.46614172313206
         ]
        },
        {
         "fill": "toself",
         "fillcolor": "rgba(0,100,80,0.2)",
         "hoverinfo": "skip",
         "legendgroup": "group17",
         "line": {
          "color": "rgba(255,255,255,0)"
         },
         "showlegend": false,
         "type": "scatter",
         "x": [
          1,
          2,
          3,
          4,
          5,
          6,
          7,
          8,
          9,
          10,
          11,
          12,
          13,
          14,
          15,
          16,
          17,
          18,
          18,
          17,
          16,
          15,
          14,
          13,
          12,
          11,
          10,
          9,
          8,
          7,
          6,
          5,
          4,
          3,
          2,
          1
         ],
         "y": [
          2.344649022408685,
          4.302850795226485,
          6.0611444659760805,
          7.718501046742503,
          9.26435170311219,
          10.729902118249708,
          12.043460832051709,
          13.238410821691353,
          14.39901859714019,
          15.542694316404997,
          16.653058993796442,
          17.674683182847282,
          18.563212232110743,
          19.363659701837218,
          20.134575525807357,
          20.89087571128066,
          21.638324690507858,
          22.379129529005095,
          28.553153917259028,
          27.419705590273168,
          26.26319280735633,
          25.08569447975954,
          23.890220076271195,
          22.66996919087343,
          21.373144123774587,
          19.955021218523747,
          18.451684579038215,
          16.915058388747347,
          15.364321732454417,
          13.789244793402895,
          12.119393742726757,
          10.329529212852744,
          8.492381391755703,
          6.576916878583291,
          4.610059382186449,
          2.510890575117682
         ]
        },
        {
         "hoverinfo": "name+y",
         "legendgroup": "group18",
         "mode": "lines",
         "name": "9500 epochs",
         "type": "scatter",
         "x": [
          1,
          2,
          3,
          4,
          5,
          6,
          7,
          8,
          9,
          10,
          11,
          12,
          13,
          14,
          15,
          16,
          17,
          18
         ],
         "y": [
          2.41538586697345,
          4.475145409920198,
          6.372189377905907,
          8.193343029808197,
          9.923157792023787,
          11.586260520506702,
          13.111694816578108,
          14.526944289528721,
          15.90747043160953,
          17.267991919148752,
          18.593538797297775,
          19.83384381870409,
          20.949645644751694,
          21.985282768333846,
          22.995910703398646,
          23.991804518724333,
          24.972952553545596,
          25.938129242600375
         ]
        },
        {
         "fill": "toself",
         "fillcolor": "rgba(0,100,80,0.2)",
         "hoverinfo": "skip",
         "legendgroup": "group18",
         "line": {
          "color": "rgba(255,255,255,0)"
         },
         "showlegend": false,
         "type": "scatter",
         "x": [
          1,
          2,
          3,
          4,
          5,
          6,
          7,
          8,
          9,
          10,
          11,
          12,
          13,
          14,
          15,
          16,
          17,
          18,
          18,
          17,
          16,
          15,
          14,
          13,
          12,
          11,
          10,
          9,
          8,
          7,
          6,
          5,
          4,
          3,
          2,
          1
         ],
         "y": [
          2.3282317567747843,
          4.304489213543472,
          6.074673008016087,
          7.736444705729088,
          9.28430226420047,
          10.746100620391301,
          12.052952732454678,
          13.237843112372214,
          14.38510835615002,
          15.514203667817183,
          16.611405530895,
          17.623176770668262,
          18.50383387051384,
          19.296627229945134,
          20.059612571583216,
          20.807059077243206,
          21.54441835233026,
          22.27439815926171,
          29.60186032593904,
          28.40148675476093,
          27.17654996020546,
          25.932208835214077,
          24.673938306722558,
          23.395457418989547,
          22.044510866739916,
          20.57567206370055,
          19.02178017048032,
          17.42983250706904,
          15.816045466685228,
          14.170436900701539,
          12.426420420622103,
          10.562013319847104,
          8.650241353887306,
          6.669705747795727,
          4.645801606296923,
          2.5025399771721157
         ]
        },
        {
         "hoverinfo": "name+y",
         "legendgroup": "group19",
         "mode": "lines",
         "name": "10000 epochs",
         "type": "scatter",
         "x": [
          1,
          2,
          3,
          4,
          5,
          6,
          7,
          8,
          9,
          10,
          11,
          12,
          13,
          14,
          15,
          16,
          17,
          18
         ],
         "y": [
          2.392935176402124,
          4.4627567131967565,
          6.363242137231776,
          8.18146460693535,
          9.90783852875784,
          11.563138877310674,
          13.078507104371774,
          14.481508070876655,
          15.847938485111221,
          17.1939982013437,
          18.507064407377634,
          19.739046317212075,
          20.850404210066284,
          21.884947106043864,
          22.89818658093873,
          23.89988781125786,
          24.889079221846067,
          25.86402450678454
         ]
        },
        {
         "fill": "toself",
         "fillcolor": "rgba(0,100,80,0.2)",
         "hoverinfo": "skip",
         "legendgroup": "group19",
         "line": {
          "color": "rgba(255,255,255,0)"
         },
         "showlegend": false,
         "type": "scatter",
         "x": [
          1,
          2,
          3,
          4,
          5,
          6,
          7,
          8,
          9,
          10,
          11,
          12,
          13,
          14,
          15,
          16,
          17,
          18,
          18,
          17,
          16,
          15,
          14,
          13,
          12,
          11,
          10,
          9,
          8,
          7,
          6,
          5,
          4,
          3,
          2,
          1
         ],
         "y": [
          2.309333671333429,
          4.304658074230944,
          6.094741777170851,
          7.77623662447547,
          9.34663101990916,
          10.828893338167365,
          12.155051488269558,
          13.356850414345953,
          14.517143924449678,
          15.65534263843025,
          16.759741081571462,
          17.779834438678918,
          18.67075220965154,
          19.47543931384281,
          20.25239203645537,
          21.01598619769617,
          21.771224115765165,
          22.52057674799837,
          29.207472265570708,
          28.00693432792697,
          26.78378942481955,
          25.543981125422093,
          24.29445489824492,
          23.03005621048103,
          21.698258195745233,
          20.254387733183805,
          18.73265376425715,
          17.178733045772766,
          15.606165727407358,
          14.001962720473989,
          12.297384416453983,
          10.46904603760652,
          8.586692589395229,
          6.6317424972927,
          4.620855352162569,
          2.476536681470819
         ]
        }
       ],
       "layout": {
        "hovermode": "x",
        "template": {
         "data": {
          "bar": [
           {
            "error_x": {
             "color": "#2a3f5f"
            },
            "error_y": {
             "color": "#2a3f5f"
            },
            "marker": {
             "line": {
              "color": "white",
              "width": 0.5
             },
             "pattern": {
              "fillmode": "overlay",
              "size": 10,
              "solidity": 0.2
             }
            },
            "type": "bar"
           }
          ],
          "barpolar": [
           {
            "marker": {
             "line": {
              "color": "white",
              "width": 0.5
             },
             "pattern": {
              "fillmode": "overlay",
              "size": 10,
              "solidity": 0.2
             }
            },
            "type": "barpolar"
           }
          ],
          "carpet": [
           {
            "aaxis": {
             "endlinecolor": "#2a3f5f",
             "gridcolor": "#C8D4E3",
             "linecolor": "#C8D4E3",
             "minorgridcolor": "#C8D4E3",
             "startlinecolor": "#2a3f5f"
            },
            "baxis": {
             "endlinecolor": "#2a3f5f",
             "gridcolor": "#C8D4E3",
             "linecolor": "#C8D4E3",
             "minorgridcolor": "#C8D4E3",
             "startlinecolor": "#2a3f5f"
            },
            "type": "carpet"
           }
          ],
          "choropleth": [
           {
            "colorbar": {
             "outlinewidth": 0,
             "ticks": ""
            },
            "type": "choropleth"
           }
          ],
          "contour": [
           {
            "colorbar": {
             "outlinewidth": 0,
             "ticks": ""
            },
            "colorscale": [
             [
              0,
              "#0d0887"
             ],
             [
              0.1111111111111111,
              "#46039f"
             ],
             [
              0.2222222222222222,
              "#7201a8"
             ],
             [
              0.3333333333333333,
              "#9c179e"
             ],
             [
              0.4444444444444444,
              "#bd3786"
             ],
             [
              0.5555555555555556,
              "#d8576b"
             ],
             [
              0.6666666666666666,
              "#ed7953"
             ],
             [
              0.7777777777777778,
              "#fb9f3a"
             ],
             [
              0.8888888888888888,
              "#fdca26"
             ],
             [
              1,
              "#f0f921"
             ]
            ],
            "type": "contour"
           }
          ],
          "contourcarpet": [
           {
            "colorbar": {
             "outlinewidth": 0,
             "ticks": ""
            },
            "type": "contourcarpet"
           }
          ],
          "heatmap": [
           {
            "colorbar": {
             "outlinewidth": 0,
             "ticks": ""
            },
            "colorscale": [
             [
              0,
              "#0d0887"
             ],
             [
              0.1111111111111111,
              "#46039f"
             ],
             [
              0.2222222222222222,
              "#7201a8"
             ],
             [
              0.3333333333333333,
              "#9c179e"
             ],
             [
              0.4444444444444444,
              "#bd3786"
             ],
             [
              0.5555555555555556,
              "#d8576b"
             ],
             [
              0.6666666666666666,
              "#ed7953"
             ],
             [
              0.7777777777777778,
              "#fb9f3a"
             ],
             [
              0.8888888888888888,
              "#fdca26"
             ],
             [
              1,
              "#f0f921"
             ]
            ],
            "type": "heatmap"
           }
          ],
          "heatmapgl": [
           {
            "colorbar": {
             "outlinewidth": 0,
             "ticks": ""
            },
            "colorscale": [
             [
              0,
              "#0d0887"
             ],
             [
              0.1111111111111111,
              "#46039f"
             ],
             [
              0.2222222222222222,
              "#7201a8"
             ],
             [
              0.3333333333333333,
              "#9c179e"
             ],
             [
              0.4444444444444444,
              "#bd3786"
             ],
             [
              0.5555555555555556,
              "#d8576b"
             ],
             [
              0.6666666666666666,
              "#ed7953"
             ],
             [
              0.7777777777777778,
              "#fb9f3a"
             ],
             [
              0.8888888888888888,
              "#fdca26"
             ],
             [
              1,
              "#f0f921"
             ]
            ],
            "type": "heatmapgl"
           }
          ],
          "histogram": [
           {
            "marker": {
             "pattern": {
              "fillmode": "overlay",
              "size": 10,
              "solidity": 0.2
             }
            },
            "type": "histogram"
           }
          ],
          "histogram2d": [
           {
            "colorbar": {
             "outlinewidth": 0,
             "ticks": ""
            },
            "colorscale": [
             [
              0,
              "#0d0887"
             ],
             [
              0.1111111111111111,
              "#46039f"
             ],
             [
              0.2222222222222222,
              "#7201a8"
             ],
             [
              0.3333333333333333,
              "#9c179e"
             ],
             [
              0.4444444444444444,
              "#bd3786"
             ],
             [
              0.5555555555555556,
              "#d8576b"
             ],
             [
              0.6666666666666666,
              "#ed7953"
             ],
             [
              0.7777777777777778,
              "#fb9f3a"
             ],
             [
              0.8888888888888888,
              "#fdca26"
             ],
             [
              1,
              "#f0f921"
             ]
            ],
            "type": "histogram2d"
           }
          ],
          "histogram2dcontour": [
           {
            "colorbar": {
             "outlinewidth": 0,
             "ticks": ""
            },
            "colorscale": [
             [
              0,
              "#0d0887"
             ],
             [
              0.1111111111111111,
              "#46039f"
             ],
             [
              0.2222222222222222,
              "#7201a8"
             ],
             [
              0.3333333333333333,
              "#9c179e"
             ],
             [
              0.4444444444444444,
              "#bd3786"
             ],
             [
              0.5555555555555556,
              "#d8576b"
             ],
             [
              0.6666666666666666,
              "#ed7953"
             ],
             [
              0.7777777777777778,
              "#fb9f3a"
             ],
             [
              0.8888888888888888,
              "#fdca26"
             ],
             [
              1,
              "#f0f921"
             ]
            ],
            "type": "histogram2dcontour"
           }
          ],
          "mesh3d": [
           {
            "colorbar": {
             "outlinewidth": 0,
             "ticks": ""
            },
            "type": "mesh3d"
           }
          ],
          "parcoords": [
           {
            "line": {
             "colorbar": {
              "outlinewidth": 0,
              "ticks": ""
             }
            },
            "type": "parcoords"
           }
          ],
          "pie": [
           {
            "automargin": true,
            "type": "pie"
           }
          ],
          "scatter": [
           {
            "fillpattern": {
             "fillmode": "overlay",
             "size": 10,
             "solidity": 0.2
            },
            "type": "scatter"
           }
          ],
          "scatter3d": [
           {
            "line": {
             "colorbar": {
              "outlinewidth": 0,
              "ticks": ""
             }
            },
            "marker": {
             "colorbar": {
              "outlinewidth": 0,
              "ticks": ""
             }
            },
            "type": "scatter3d"
           }
          ],
          "scattercarpet": [
           {
            "marker": {
             "colorbar": {
              "outlinewidth": 0,
              "ticks": ""
             }
            },
            "type": "scattercarpet"
           }
          ],
          "scattergeo": [
           {
            "marker": {
             "colorbar": {
              "outlinewidth": 0,
              "ticks": ""
             }
            },
            "type": "scattergeo"
           }
          ],
          "scattergl": [
           {
            "marker": {
             "colorbar": {
              "outlinewidth": 0,
              "ticks": ""
             }
            },
            "type": "scattergl"
           }
          ],
          "scattermapbox": [
           {
            "marker": {
             "colorbar": {
              "outlinewidth": 0,
              "ticks": ""
             }
            },
            "type": "scattermapbox"
           }
          ],
          "scatterpolar": [
           {
            "marker": {
             "colorbar": {
              "outlinewidth": 0,
              "ticks": ""
             }
            },
            "type": "scatterpolar"
           }
          ],
          "scatterpolargl": [
           {
            "marker": {
             "colorbar": {
              "outlinewidth": 0,
              "ticks": ""
             }
            },
            "type": "scatterpolargl"
           }
          ],
          "scatterternary": [
           {
            "marker": {
             "colorbar": {
              "outlinewidth": 0,
              "ticks": ""
             }
            },
            "type": "scatterternary"
           }
          ],
          "surface": [
           {
            "colorbar": {
             "outlinewidth": 0,
             "ticks": ""
            },
            "colorscale": [
             [
              0,
              "#0d0887"
             ],
             [
              0.1111111111111111,
              "#46039f"
             ],
             [
              0.2222222222222222,
              "#7201a8"
             ],
             [
              0.3333333333333333,
              "#9c179e"
             ],
             [
              0.4444444444444444,
              "#bd3786"
             ],
             [
              0.5555555555555556,
              "#d8576b"
             ],
             [
              0.6666666666666666,
              "#ed7953"
             ],
             [
              0.7777777777777778,
              "#fb9f3a"
             ],
             [
              0.8888888888888888,
              "#fdca26"
             ],
             [
              1,
              "#f0f921"
             ]
            ],
            "type": "surface"
           }
          ],
          "table": [
           {
            "cells": {
             "fill": {
              "color": "#EBF0F8"
             },
             "line": {
              "color": "white"
             }
            },
            "header": {
             "fill": {
              "color": "#C8D4E3"
             },
             "line": {
              "color": "white"
             }
            },
            "type": "table"
           }
          ]
         },
         "layout": {
          "annotationdefaults": {
           "arrowcolor": "#2a3f5f",
           "arrowhead": 0,
           "arrowwidth": 1
          },
          "autotypenumbers": "strict",
          "coloraxis": {
           "colorbar": {
            "outlinewidth": 0,
            "ticks": ""
           }
          },
          "colorscale": {
           "diverging": [
            [
             0,
             "#8e0152"
            ],
            [
             0.1,
             "#c51b7d"
            ],
            [
             0.2,
             "#de77ae"
            ],
            [
             0.3,
             "#f1b6da"
            ],
            [
             0.4,
             "#fde0ef"
            ],
            [
             0.5,
             "#f7f7f7"
            ],
            [
             0.6,
             "#e6f5d0"
            ],
            [
             0.7,
             "#b8e186"
            ],
            [
             0.8,
             "#7fbc41"
            ],
            [
             0.9,
             "#4d9221"
            ],
            [
             1,
             "#276419"
            ]
           ],
           "sequential": [
            [
             0,
             "#0d0887"
            ],
            [
             0.1111111111111111,
             "#46039f"
            ],
            [
             0.2222222222222222,
             "#7201a8"
            ],
            [
             0.3333333333333333,
             "#9c179e"
            ],
            [
             0.4444444444444444,
             "#bd3786"
            ],
            [
             0.5555555555555556,
             "#d8576b"
            ],
            [
             0.6666666666666666,
             "#ed7953"
            ],
            [
             0.7777777777777778,
             "#fb9f3a"
            ],
            [
             0.8888888888888888,
             "#fdca26"
            ],
            [
             1,
             "#f0f921"
            ]
           ],
           "sequentialminus": [
            [
             0,
             "#0d0887"
            ],
            [
             0.1111111111111111,
             "#46039f"
            ],
            [
             0.2222222222222222,
             "#7201a8"
            ],
            [
             0.3333333333333333,
             "#9c179e"
            ],
            [
             0.4444444444444444,
             "#bd3786"
            ],
            [
             0.5555555555555556,
             "#d8576b"
            ],
            [
             0.6666666666666666,
             "#ed7953"
            ],
            [
             0.7777777777777778,
             "#fb9f3a"
            ],
            [
             0.8888888888888888,
             "#fdca26"
            ],
            [
             1,
             "#f0f921"
            ]
           ]
          },
          "colorway": [
           "#636efa",
           "#EF553B",
           "#00cc96",
           "#ab63fa",
           "#FFA15A",
           "#19d3f3",
           "#FF6692",
           "#B6E880",
           "#FF97FF",
           "#FECB52"
          ],
          "font": {
           "color": "#2a3f5f"
          },
          "geo": {
           "bgcolor": "white",
           "lakecolor": "white",
           "landcolor": "white",
           "showlakes": true,
           "showland": true,
           "subunitcolor": "#C8D4E3"
          },
          "hoverlabel": {
           "align": "left"
          },
          "hovermode": "closest",
          "mapbox": {
           "style": "light"
          },
          "paper_bgcolor": "white",
          "plot_bgcolor": "white",
          "polar": {
           "angularaxis": {
            "gridcolor": "#EBF0F8",
            "linecolor": "#EBF0F8",
            "ticks": ""
           },
           "bgcolor": "white",
           "radialaxis": {
            "gridcolor": "#EBF0F8",
            "linecolor": "#EBF0F8",
            "ticks": ""
           }
          },
          "scene": {
           "xaxis": {
            "backgroundcolor": "white",
            "gridcolor": "#DFE8F3",
            "gridwidth": 2,
            "linecolor": "#EBF0F8",
            "showbackground": true,
            "ticks": "",
            "zerolinecolor": "#EBF0F8"
           },
           "yaxis": {
            "backgroundcolor": "white",
            "gridcolor": "#DFE8F3",
            "gridwidth": 2,
            "linecolor": "#EBF0F8",
            "showbackground": true,
            "ticks": "",
            "zerolinecolor": "#EBF0F8"
           },
           "zaxis": {
            "backgroundcolor": "white",
            "gridcolor": "#DFE8F3",
            "gridwidth": 2,
            "linecolor": "#EBF0F8",
            "showbackground": true,
            "ticks": "",
            "zerolinecolor": "#EBF0F8"
           }
          },
          "shapedefaults": {
           "line": {
            "color": "#2a3f5f"
           }
          },
          "ternary": {
           "aaxis": {
            "gridcolor": "#DFE8F3",
            "linecolor": "#A2B1C6",
            "ticks": ""
           },
           "baxis": {
            "gridcolor": "#DFE8F3",
            "linecolor": "#A2B1C6",
            "ticks": ""
           },
           "bgcolor": "white",
           "caxis": {
            "gridcolor": "#DFE8F3",
            "linecolor": "#A2B1C6",
            "ticks": ""
           }
          },
          "title": {
           "x": 0.05
          },
          "xaxis": {
           "automargin": true,
           "gridcolor": "#EBF0F8",
           "linecolor": "#EBF0F8",
           "ticks": "",
           "title": {
            "standoff": 15
           },
           "zerolinecolor": "#EBF0F8",
           "zerolinewidth": 2
          },
          "yaxis": {
           "automargin": true,
           "gridcolor": "#EBF0F8",
           "linecolor": "#EBF0F8",
           "ticks": "",
           "title": {
            "standoff": 15
           },
           "zerolinecolor": "#EBF0F8",
           "zerolinewidth": 2
          }
         }
        },
        "title": {
         "text": "RMSE for 1 month ahead prediction"
        },
        "xaxis": {
         "dtick": 1,
         "tick0": 1,
         "tickmode": "linear",
         "title": {
          "text": "Month"
         }
        },
        "yaxis": {
         "fixedrange": true,
         "range": [
          0,
          40
         ],
         "title": {
          "text": "Error"
         }
        }
       }
      }
     },
     "metadata": {},
     "output_type": "display_data"
    }
   ],
   "source": [
    "import plotly.graph_objs as go\n",
    "import numpy as np\n",
    "\n",
    "# Coordinates on the X-axis for each element in the row\n",
    "x = np.arange(18) + 1\n",
    "\n",
    "# Number of rows (experiments) in the array\n",
    "n_rows = 20\n",
    "\n",
    "# Создаем пустую фигуру\n",
    "fig = go.Figure()\n",
    "\n",
    "# Добавляем графики для каждого эксперимента\n",
    "for i in range(n_rows):\n",
    "    # Средние значения для строки i\n",
    "    means = mean_rmses[i, :]\n",
    "    \n",
    "    # Стандартное отклонение (дисперсия)\n",
    "    std_rmses = stds[i, :]\n",
    "    \n",
    "    # Добавляем линию средних значений\n",
    "    fig.add_trace(go.Scatter(\n",
    "        x=x, y=means,\n",
    "        mode='lines',\n",
    "        name=f'{500 * (i + 1)} epochs',\n",
    "        legendgroup=f'group{i}',   # Группировка с областью\n",
    "        hoverinfo='name+y',\n",
    "    ))\n",
    "    \n",
    "    # Добавляем область между (mean - std) и (mean + std)\n",
    "    fig.add_trace(go.Scatter(\n",
    "        x=np.concatenate([x, x[::-1]]),\n",
    "        y=np.concatenate([means - std_rmses, (means + std_rmses)[::-1]]),\n",
    "        fill='toself',\n",
    "        fillcolor='rgba(0,100,80,0.2)',\n",
    "        line=dict(color='rgba(255,255,255,0)'),\n",
    "        hoverinfo='skip',\n",
    "        legendgroup=f'group{i}',   # Группировка с линией\n",
    "        showlegend=False           # Не показываем в легенде вторую линию\n",
    "    ))\n",
    "\n",
    "# Настройки графика\n",
    "fig.update_layout(\n",
    "    title='RMSE for 1 month ahead prediction',\n",
    "    xaxis_title='Month',\n",
    "    yaxis_title='Error',\n",
    "    xaxis=dict(tickmode='linear', tick0=1, dtick=1),\n",
    "    hovermode='x',\n",
    "    template='plotly_white',\n",
    "    # xaxis=dict(range=[xmin, xmax], fixedrange=True),\n",
    "    yaxis=dict(range=[0, 40], fixedrange=True)\n",
    "\n",
    ")\n",
    "\n",
    "# Показываем график\n",
    "fig.show()\n"
   ]
  },
  {
   "cell_type": "code",
   "execution_count": null,
   "metadata": {},
   "outputs": [],
   "source": []
  },
  {
   "cell_type": "code",
   "execution_count": null,
   "metadata": {},
   "outputs": [],
   "source": []
  }
 ],
 "metadata": {
  "kernelspec": {
   "display_name": "Python 3",
   "language": "python",
   "name": "python3"
  },
  "language_info": {
   "codemirror_mode": {
    "name": "ipython",
    "version": 3
   },
   "file_extension": ".py",
   "mimetype": "text/x-python",
   "name": "python",
   "nbconvert_exporter": "python",
   "pygments_lexer": "ipython3",
   "version": "3.10.6"
  }
 },
 "nbformat": 4,
 "nbformat_minor": 2
}
