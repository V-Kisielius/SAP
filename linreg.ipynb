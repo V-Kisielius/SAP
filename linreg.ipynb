{
 "cells": [
  {
   "cell_type": "code",
   "execution_count": 10,
   "metadata": {},
   "outputs": [],
   "source": [
    "import numpy as np\n",
    "import torch\n",
    "import pandas as pd\n",
    "from sklearn.linear_model import LinearRegression\n",
    "from sklearn.metrics import mean_squared_error\n",
    "from scripts.data_auto import DataAuto"
   ]
  },
  {
   "cell_type": "code",
   "execution_count": 11,
   "metadata": {},
   "outputs": [
    {
     "data": {
      "text/html": [
       "<div>\n",
       "<style scoped>\n",
       "    .dataframe tbody tr th:only-of-type {\n",
       "        vertical-align: middle;\n",
       "    }\n",
       "\n",
       "    .dataframe tbody tr th {\n",
       "        vertical-align: top;\n",
       "    }\n",
       "\n",
       "    .dataframe thead th {\n",
       "        text-align: right;\n",
       "    }\n",
       "</style>\n",
       "<table border=\"1\" class=\"dataframe\">\n",
       "  <thead>\n",
       "    <tr style=\"text-align: right;\">\n",
       "      <th></th>\n",
       "      <th>year</th>\n",
       "      <th>month</th>\n",
       "      <th>decimal_date</th>\n",
       "      <th>SSN</th>\n",
       "      <th>M1</th>\n",
       "      <th>M2</th>\n",
       "      <th>M3</th>\n",
       "      <th>M4</th>\n",
       "      <th>M5</th>\n",
       "    </tr>\n",
       "  </thead>\n",
       "  <tbody>\n",
       "    <tr>\n",
       "      <th>643</th>\n",
       "      <td>2018</td>\n",
       "      <td>8</td>\n",
       "      <td>2018.623</td>\n",
       "      <td>0.028768</td>\n",
       "      <td>0.028838</td>\n",
       "      <td>0.007422</td>\n",
       "      <td>0.071437</td>\n",
       "      <td>0.138527</td>\n",
       "      <td>0.159606</td>\n",
       "    </tr>\n",
       "    <tr>\n",
       "      <th>644</th>\n",
       "      <td>2018</td>\n",
       "      <td>9</td>\n",
       "      <td>2018.705</td>\n",
       "      <td>0.027909</td>\n",
       "      <td>0.029266</td>\n",
       "      <td>0.007966</td>\n",
       "      <td>0.073743</td>\n",
       "      <td>0.135698</td>\n",
       "      <td>0.167333</td>\n",
       "    </tr>\n",
       "    <tr>\n",
       "      <th>645</th>\n",
       "      <td>2018</td>\n",
       "      <td>10</td>\n",
       "      <td>2018.790</td>\n",
       "      <td>0.029197</td>\n",
       "      <td>0.029564</td>\n",
       "      <td>0.008762</td>\n",
       "      <td>0.075843</td>\n",
       "      <td>0.132842</td>\n",
       "      <td>0.176335</td>\n",
       "    </tr>\n",
       "    <tr>\n",
       "      <th>646</th>\n",
       "      <td>2018</td>\n",
       "      <td>11</td>\n",
       "      <td>2018.873</td>\n",
       "      <td>0.028768</td>\n",
       "      <td>0.030029</td>\n",
       "      <td>0.009605</td>\n",
       "      <td>0.078106</td>\n",
       "      <td>0.129633</td>\n",
       "      <td>0.184630</td>\n",
       "    </tr>\n",
       "    <tr>\n",
       "      <th>647</th>\n",
       "      <td>2018</td>\n",
       "      <td>12</td>\n",
       "      <td>2018.958</td>\n",
       "      <td>0.025762</td>\n",
       "      <td>0.030656</td>\n",
       "      <td>0.010354</td>\n",
       "      <td>0.080041</td>\n",
       "      <td>0.126078</td>\n",
       "      <td>0.192651</td>\n",
       "    </tr>\n",
       "  </tbody>\n",
       "</table>\n",
       "</div>"
      ],
      "text/plain": [
       "     year  month  decimal_date       SSN        M1        M2        M3  \\\n",
       "643  2018      8      2018.623  0.028768  0.028838  0.007422  0.071437   \n",
       "644  2018      9      2018.705  0.027909  0.029266  0.007966  0.073743   \n",
       "645  2018     10      2018.790  0.029197  0.029564  0.008762  0.075843   \n",
       "646  2018     11      2018.873  0.028768  0.030029  0.009605  0.078106   \n",
       "647  2018     12      2018.958  0.025762  0.030656  0.010354  0.080041   \n",
       "\n",
       "           M4        M5  \n",
       "643  0.138527  0.159606  \n",
       "644  0.135698  0.167333  \n",
       "645  0.132842  0.176335  \n",
       "646  0.129633  0.184630  \n",
       "647  0.126078  0.192651  "
      ]
     },
     "execution_count": 11,
     "metadata": {},
     "output_type": "execute_result"
    }
   ],
   "source": [
    "# make df with column names year, month, decimal date, SSN, M1, M2, M3, M4, M5 from file 5c_obs_sim_v1.dat\n",
    "df = pd.read_csv('5c_obs_sim_v1.dat', sep='\\s+', header=None, names=['year', 'month', 'decimal_date', 'SSN', 'M1', 'M2', 'M3', 'M4', 'M5'])\n",
    "\n",
    "# normalize data to be between 0 and 1 using max value from SSN\n",
    "M = df['SSN'].max()\n",
    "df['SSN'] = df['SSN'] / M\n",
    "for i in range(1, 6):\n",
    "    df[f'M{i}'] = df[f'M{i}'] / M\n",
    "\n",
    "df.tail()"
   ]
  },
  {
   "cell_type": "code",
   "execution_count": 12,
   "metadata": {},
   "outputs": [
    {
     "data": {
      "text/plain": [
       "0     1965-01-01\n",
       "1     1965-02-01\n",
       "2     1965-03-01\n",
       "3     1965-04-01\n",
       "4     1965-05-01\n",
       "         ...    \n",
       "643   2018-08-01\n",
       "644   2018-09-01\n",
       "645   2018-10-01\n",
       "646   2018-11-01\n",
       "647   2018-12-01\n",
       "Length: 648, dtype: datetime64[ns]"
      ]
     },
     "execution_count": 12,
     "metadata": {},
     "output_type": "execute_result"
    }
   ],
   "source": [
    "model_series = df['M1'].values\n",
    "observed_series = df['SSN'].values\n",
    "\n",
    "# make dates into datetime objects from year and month in format yyyy-mm\n",
    "dates = pd.to_datetime(df[['year', 'month']].assign(day=1))\n",
    "dates"
   ]
  },
  {
   "cell_type": "markdown",
   "metadata": {},
   "source": [
    "# AutoLin"
   ]
  },
  {
   "cell_type": "code",
   "execution_count": 4,
   "metadata": {},
   "outputs": [
    {
     "data": {
      "text/html": [
       "<style>#sk-container-id-1 {color: black;background-color: white;}#sk-container-id-1 pre{padding: 0;}#sk-container-id-1 div.sk-toggleable {background-color: white;}#sk-container-id-1 label.sk-toggleable__label {cursor: pointer;display: block;width: 100%;margin-bottom: 0;padding: 0.3em;box-sizing: border-box;text-align: center;}#sk-container-id-1 label.sk-toggleable__label-arrow:before {content: \"▸\";float: left;margin-right: 0.25em;color: #696969;}#sk-container-id-1 label.sk-toggleable__label-arrow:hover:before {color: black;}#sk-container-id-1 div.sk-estimator:hover label.sk-toggleable__label-arrow:before {color: black;}#sk-container-id-1 div.sk-toggleable__content {max-height: 0;max-width: 0;overflow: hidden;text-align: left;background-color: #f0f8ff;}#sk-container-id-1 div.sk-toggleable__content pre {margin: 0.2em;color: black;border-radius: 0.25em;background-color: #f0f8ff;}#sk-container-id-1 input.sk-toggleable__control:checked~div.sk-toggleable__content {max-height: 200px;max-width: 100%;overflow: auto;}#sk-container-id-1 input.sk-toggleable__control:checked~label.sk-toggleable__label-arrow:before {content: \"▾\";}#sk-container-id-1 div.sk-estimator input.sk-toggleable__control:checked~label.sk-toggleable__label {background-color: #d4ebff;}#sk-container-id-1 div.sk-label input.sk-toggleable__control:checked~label.sk-toggleable__label {background-color: #d4ebff;}#sk-container-id-1 input.sk-hidden--visually {border: 0;clip: rect(1px 1px 1px 1px);clip: rect(1px, 1px, 1px, 1px);height: 1px;margin: -1px;overflow: hidden;padding: 0;position: absolute;width: 1px;}#sk-container-id-1 div.sk-estimator {font-family: monospace;background-color: #f0f8ff;border: 1px dotted black;border-radius: 0.25em;box-sizing: border-box;margin-bottom: 0.5em;}#sk-container-id-1 div.sk-estimator:hover {background-color: #d4ebff;}#sk-container-id-1 div.sk-parallel-item::after {content: \"\";width: 100%;border-bottom: 1px solid gray;flex-grow: 1;}#sk-container-id-1 div.sk-label:hover label.sk-toggleable__label {background-color: #d4ebff;}#sk-container-id-1 div.sk-serial::before {content: \"\";position: absolute;border-left: 1px solid gray;box-sizing: border-box;top: 0;bottom: 0;left: 50%;z-index: 0;}#sk-container-id-1 div.sk-serial {display: flex;flex-direction: column;align-items: center;background-color: white;padding-right: 0.2em;padding-left: 0.2em;position: relative;}#sk-container-id-1 div.sk-item {position: relative;z-index: 1;}#sk-container-id-1 div.sk-parallel {display: flex;align-items: stretch;justify-content: center;background-color: white;position: relative;}#sk-container-id-1 div.sk-item::before, #sk-container-id-1 div.sk-parallel-item::before {content: \"\";position: absolute;border-left: 1px solid gray;box-sizing: border-box;top: 0;bottom: 0;left: 50%;z-index: -1;}#sk-container-id-1 div.sk-parallel-item {display: flex;flex-direction: column;z-index: 1;position: relative;background-color: white;}#sk-container-id-1 div.sk-parallel-item:first-child::after {align-self: flex-end;width: 50%;}#sk-container-id-1 div.sk-parallel-item:last-child::after {align-self: flex-start;width: 50%;}#sk-container-id-1 div.sk-parallel-item:only-child::after {width: 0;}#sk-container-id-1 div.sk-dashed-wrapped {border: 1px dashed gray;margin: 0 0.4em 0.5em 0.4em;box-sizing: border-box;padding-bottom: 0.4em;background-color: white;}#sk-container-id-1 div.sk-label label {font-family: monospace;font-weight: bold;display: inline-block;line-height: 1.2em;}#sk-container-id-1 div.sk-label-container {text-align: center;}#sk-container-id-1 div.sk-container {/* jupyter's `normalize.less` sets `[hidden] { display: none; }` but bootstrap.min.css set `[hidden] { display: none !important; }` so we also need the `!important` here to be able to override the default hidden behavior on the sphinx rendered scikit-learn.org. See: https://github.com/scikit-learn/scikit-learn/issues/21755 */display: inline-block !important;position: relative;}#sk-container-id-1 div.sk-text-repr-fallback {display: none;}</style><div id=\"sk-container-id-1\" class=\"sk-top-container\"><div class=\"sk-text-repr-fallback\"><pre>LinearRegression()</pre><b>In a Jupyter environment, please rerun this cell to show the HTML representation or trust the notebook. <br />On GitHub, the HTML representation is unable to render, please try loading this page with nbviewer.org.</b></div><div class=\"sk-container\" hidden><div class=\"sk-item\"><div class=\"sk-estimator sk-toggleable\"><input class=\"sk-toggleable__control sk-hidden--visually\" id=\"sk-estimator-id-1\" type=\"checkbox\" checked><label for=\"sk-estimator-id-1\" class=\"sk-toggleable__label sk-toggleable__label-arrow\">LinearRegression</label><div class=\"sk-toggleable__content\"><pre>LinearRegression()</pre></div></div></div></div></div>"
      ],
      "text/plain": [
       "LinearRegression()"
      ]
     },
     "execution_count": 4,
     "metadata": {},
     "output_type": "execute_result"
    }
   ],
   "source": [
    "\n",
    "# Генерация данных\n",
    "data = DataAuto(model_series=model_series, observed_series=observed_series, previous_values=4)\n",
    "\n",
    "train_data_X = data.X[:360].numpy()\n",
    "train_data_y = data.y[:360].numpy()\n",
    "\n",
    "test_data_X = data.X[360:].numpy()\n",
    "test_data_y = data.y[360:].numpy()\n",
    "\n",
    "# Обучение линейной регрессии\n",
    "linear_model = LinearRegression()\n",
    "linear_model.fit(train_data_X, train_data_y)\n"
   ]
  },
  {
   "cell_type": "code",
   "execution_count": 5,
   "metadata": {},
   "outputs": [
    {
     "data": {
      "text/plain": [
       "array([-0.46322024,  0.871093  , -0.15623218, -0.5515664 ,  0.30891836,\n",
       "       -0.45397672,  1.275235  , -2.05173   ,  2.2170548 ], dtype=float32)"
      ]
     },
     "execution_count": 5,
     "metadata": {},
     "output_type": "execute_result"
    }
   ],
   "source": [
    "linear_model.coef_"
   ]
  },
  {
   "cell_type": "code",
   "execution_count": 6,
   "metadata": {},
   "outputs": [],
   "source": [
    "\n",
    "# Функция для авторегрессионного предсказания\n",
    "def autoregressive_prediction(model, data_X, initial_index, steps):\n",
    "    preds = []\n",
    "    current_X = data_X[initial_index].copy()\n",
    "    \n",
    "    for step in range(steps):\n",
    "        # Предсказание на основе текущих данных\n",
    "        pred = model.predict(current_X.reshape(1, -1))[0]\n",
    "        preds.append(pred)\n",
    "        \n",
    "        # Обновление входных данных\n",
    "        model_s = data_X[initial_index + step + 1, :5] if initial_index + step + 1 < len(data_X) else np.zeros(5)\n",
    "        obs_s = current_X[-3:]\n",
    "        obs_s = np.append(obs_s, pred)\n",
    "        current_X = np.concatenate((model_s, obs_s[-4:]))\n",
    "    \n",
    "    return preds\n",
    "\n",
    "# Вычисление RMSE для прогноза на каждый месяц\n",
    "def compute_rmse_autoregressive(model, test_X, test_y, steps):\n",
    "    rmses = []\n",
    "    for step in range(steps):  # Включаем прогноз на 1 месяц вперед\n",
    "        step_preds = []\n",
    "        step_targets = []\n",
    "        for i in range(len(test_X) - step):\n",
    "            preds = autoregressive_prediction(model, test_X, i, step + 1)\n",
    "            step_preds.append(preds[-1])  # Берем только последний месяц\n",
    "            step_targets.append(test_y[i + step])\n",
    "        \n",
    "        # Вычисление RMSE для данного шага\n",
    "        step_rmse = np.sqrt(mean_squared_error(step_targets, step_preds))\n",
    "        rmses.append(step_rmse)\n",
    "    return rmses\n"
   ]
  },
  {
   "cell_type": "code",
   "execution_count": 7,
   "metadata": {},
   "outputs": [
    {
     "name": "stdout",
     "output_type": "stream",
     "text": [
      "Month 1: RMSE = 1.3107\n",
      "Month 2: RMSE = 3.1802\n",
      "Month 3: RMSE = 4.7544\n",
      "Month 4: RMSE = 6.2001\n",
      "Month 5: RMSE = 7.6669\n",
      "Month 6: RMSE = 9.1947\n",
      "Month 7: RMSE = 10.7422\n",
      "Month 8: RMSE = 12.2051\n",
      "Month 9: RMSE = 13.7142\n",
      "Month 10: RMSE = 15.2821\n",
      "Month 11: RMSE = 16.8344\n",
      "Month 12: RMSE = 18.3905\n",
      "Month 13: RMSE = 19.7611\n",
      "Month 14: RMSE = 20.9241\n",
      "Month 15: RMSE = 21.9983\n",
      "Month 16: RMSE = 22.9796\n",
      "Month 17: RMSE = 23.8572\n",
      "Month 18: RMSE = 24.6390\n"
     ]
    }
   ],
   "source": [
    "\n",
    "# Получение RMSE для прогноза на 18 месяцев\n",
    "steps = 18\n",
    "rmses = compute_rmse_autoregressive(linear_model, test_data_X, test_data_y, steps)\n",
    "\n",
    "# Вывод результатов\n",
    "for month, rmse in enumerate(rmses, start=1):\n",
    "    print(f\"Month {month}: RMSE = {rmse * M:.4f}\")\n",
    "\n"
   ]
  },
  {
   "cell_type": "code",
   "execution_count": 9,
   "metadata": {},
   "outputs": [],
   "source": [
    "rmses = np.array(rmses)\n",
    "# save\n",
    "np.save('rmses_linreg.npy', rmses)"
   ]
  },
  {
   "cell_type": "markdown",
   "metadata": {},
   "source": [
    "# 18-forwrad linreg"
   ]
  },
  {
   "cell_type": "code",
   "execution_count": 13,
   "metadata": {},
   "outputs": [],
   "source": [
    "from scripts import Data18Forward"
   ]
  },
  {
   "cell_type": "code",
   "execution_count": 14,
   "metadata": {},
   "outputs": [
    {
     "data": {
      "text/html": [
       "<style>#sk-container-id-2 {color: black;background-color: white;}#sk-container-id-2 pre{padding: 0;}#sk-container-id-2 div.sk-toggleable {background-color: white;}#sk-container-id-2 label.sk-toggleable__label {cursor: pointer;display: block;width: 100%;margin-bottom: 0;padding: 0.3em;box-sizing: border-box;text-align: center;}#sk-container-id-2 label.sk-toggleable__label-arrow:before {content: \"▸\";float: left;margin-right: 0.25em;color: #696969;}#sk-container-id-2 label.sk-toggleable__label-arrow:hover:before {color: black;}#sk-container-id-2 div.sk-estimator:hover label.sk-toggleable__label-arrow:before {color: black;}#sk-container-id-2 div.sk-toggleable__content {max-height: 0;max-width: 0;overflow: hidden;text-align: left;background-color: #f0f8ff;}#sk-container-id-2 div.sk-toggleable__content pre {margin: 0.2em;color: black;border-radius: 0.25em;background-color: #f0f8ff;}#sk-container-id-2 input.sk-toggleable__control:checked~div.sk-toggleable__content {max-height: 200px;max-width: 100%;overflow: auto;}#sk-container-id-2 input.sk-toggleable__control:checked~label.sk-toggleable__label-arrow:before {content: \"▾\";}#sk-container-id-2 div.sk-estimator input.sk-toggleable__control:checked~label.sk-toggleable__label {background-color: #d4ebff;}#sk-container-id-2 div.sk-label input.sk-toggleable__control:checked~label.sk-toggleable__label {background-color: #d4ebff;}#sk-container-id-2 input.sk-hidden--visually {border: 0;clip: rect(1px 1px 1px 1px);clip: rect(1px, 1px, 1px, 1px);height: 1px;margin: -1px;overflow: hidden;padding: 0;position: absolute;width: 1px;}#sk-container-id-2 div.sk-estimator {font-family: monospace;background-color: #f0f8ff;border: 1px dotted black;border-radius: 0.25em;box-sizing: border-box;margin-bottom: 0.5em;}#sk-container-id-2 div.sk-estimator:hover {background-color: #d4ebff;}#sk-container-id-2 div.sk-parallel-item::after {content: \"\";width: 100%;border-bottom: 1px solid gray;flex-grow: 1;}#sk-container-id-2 div.sk-label:hover label.sk-toggleable__label {background-color: #d4ebff;}#sk-container-id-2 div.sk-serial::before {content: \"\";position: absolute;border-left: 1px solid gray;box-sizing: border-box;top: 0;bottom: 0;left: 50%;z-index: 0;}#sk-container-id-2 div.sk-serial {display: flex;flex-direction: column;align-items: center;background-color: white;padding-right: 0.2em;padding-left: 0.2em;position: relative;}#sk-container-id-2 div.sk-item {position: relative;z-index: 1;}#sk-container-id-2 div.sk-parallel {display: flex;align-items: stretch;justify-content: center;background-color: white;position: relative;}#sk-container-id-2 div.sk-item::before, #sk-container-id-2 div.sk-parallel-item::before {content: \"\";position: absolute;border-left: 1px solid gray;box-sizing: border-box;top: 0;bottom: 0;left: 50%;z-index: -1;}#sk-container-id-2 div.sk-parallel-item {display: flex;flex-direction: column;z-index: 1;position: relative;background-color: white;}#sk-container-id-2 div.sk-parallel-item:first-child::after {align-self: flex-end;width: 50%;}#sk-container-id-2 div.sk-parallel-item:last-child::after {align-self: flex-start;width: 50%;}#sk-container-id-2 div.sk-parallel-item:only-child::after {width: 0;}#sk-container-id-2 div.sk-dashed-wrapped {border: 1px dashed gray;margin: 0 0.4em 0.5em 0.4em;box-sizing: border-box;padding-bottom: 0.4em;background-color: white;}#sk-container-id-2 div.sk-label label {font-family: monospace;font-weight: bold;display: inline-block;line-height: 1.2em;}#sk-container-id-2 div.sk-label-container {text-align: center;}#sk-container-id-2 div.sk-container {/* jupyter's `normalize.less` sets `[hidden] { display: none; }` but bootstrap.min.css set `[hidden] { display: none !important; }` so we also need the `!important` here to be able to override the default hidden behavior on the sphinx rendered scikit-learn.org. See: https://github.com/scikit-learn/scikit-learn/issues/21755 */display: inline-block !important;position: relative;}#sk-container-id-2 div.sk-text-repr-fallback {display: none;}</style><div id=\"sk-container-id-2\" class=\"sk-top-container\"><div class=\"sk-text-repr-fallback\"><pre>LinearRegression()</pre><b>In a Jupyter environment, please rerun this cell to show the HTML representation or trust the notebook. <br />On GitHub, the HTML representation is unable to render, please try loading this page with nbviewer.org.</b></div><div class=\"sk-container\" hidden><div class=\"sk-item\"><div class=\"sk-estimator sk-toggleable\"><input class=\"sk-toggleable__control sk-hidden--visually\" id=\"sk-estimator-id-2\" type=\"checkbox\" checked><label for=\"sk-estimator-id-2\" class=\"sk-toggleable__label sk-toggleable__label-arrow\">LinearRegression</label><div class=\"sk-toggleable__content\"><pre>LinearRegression()</pre></div></div></div></div></div>"
      ],
      "text/plain": [
       "LinearRegression()"
      ]
     },
     "execution_count": 14,
     "metadata": {},
     "output_type": "execute_result"
    }
   ],
   "source": [
    "# Генерация данных\n",
    "data = Data18Forward(model_series=model_series, observed_series=observed_series, previous_values=4)\n",
    "\n",
    "train_data_X = data.X[:360].numpy()\n",
    "train_data_y = data.y[:360].numpy()\n",
    "\n",
    "test_data_X = data.X[360:].numpy()\n",
    "test_data_y = data.y[360:].numpy()\n",
    "\n",
    "# Обучение линейной регрессии\n",
    "linear_model = LinearRegression()\n",
    "linear_model.fit(train_data_X, train_data_y)\n"
   ]
  },
  {
   "cell_type": "code",
   "execution_count": 15,
   "metadata": {},
   "outputs": [
    {
     "data": {
      "text/plain": [
       "0.065806426"
      ]
     },
     "execution_count": 15,
     "metadata": {},
     "output_type": "execute_result"
    }
   ],
   "source": [
    "def compute_rmse_18forward(model, test_X, test_y):\n",
    "    preds = model.predict(test_X)\n",
    "    rmse = np.sqrt(mean_squared_error(test_y, preds))\n",
    "    return rmse\n",
    "\n",
    "# Вычисление RMSE для прогноза на 18 месяцев\n",
    "rmse = compute_rmse_18forward(linear_model, test_data_X, test_data_y)\n",
    "rmse"
   ]
  },
  {
   "cell_type": "code",
   "execution_count": 24,
   "metadata": {},
   "outputs": [
    {
     "data": {
      "text/plain": [
       "array([0.0057445 , 0.01384314, 0.020789  , 0.02710046, 0.03334456,\n",
       "       0.03978192, 0.04632557, 0.05246791, 0.05850363, 0.06460066,\n",
       "       0.07090466, 0.07743138, 0.0829308 , 0.08706541, 0.09048857,\n",
       "       0.09346128, 0.09612259, 0.09861259], dtype=float32)"
      ]
     },
     "execution_count": 24,
     "metadata": {},
     "output_type": "execute_result"
    }
   ],
   "source": [
    "preds = linear_model.predict(test_data_X)\n",
    "rmses = np.sqrt(mean_squared_error(test_data_y, preds, multioutput='raw_values'))\n",
    "rmses"
   ]
  },
  {
   "cell_type": "code",
   "execution_count": 27,
   "metadata": {},
   "outputs": [],
   "source": [
    "# save rmses\n",
    "np.save('rmses_18forward.npy', rmses)"
   ]
  },
  {
   "cell_type": "markdown",
   "metadata": {},
   "source": [
    "# x18 linreg"
   ]
  },
  {
   "cell_type": "code",
   "execution_count": 26,
   "metadata": {},
   "outputs": [],
   "source": [
    "from scripts import Datax18"
   ]
  },
  {
   "cell_type": "code",
   "execution_count": 31,
   "metadata": {},
   "outputs": [],
   "source": [
    "rmses = []\n",
    "for horizon in range(1, 19):\n",
    "    data = Datax18(model_series=model_series, observed_series=observed_series, previous_values=4, horizon=horizon)\n",
    "    \n",
    "    train_data_X = data.X[:360].numpy()\n",
    "    train_data_y = data.y[:360].numpy()\n",
    "\n",
    "    test_data_X = data.X[360:].numpy()\n",
    "    test_data_y = data.y[360:].numpy()\n",
    "    \n",
    "    model = LinearRegression()\n",
    "    model.fit(train_data_X, train_data_y)\n",
    "    \n",
    "    preds = model.predict(test_data_X)\n",
    "    rmse = np.sqrt(mean_squared_error(test_data_y, preds))\n",
    "    rmses.append(rmse)\n",
    "    \n",
    "rmses = np.array(rmses)\n",
    "    "
   ]
  },
  {
   "cell_type": "code",
   "execution_count": 36,
   "metadata": {},
   "outputs": [
    {
     "data": {
      "text/plain": [
       "(360, 26)"
      ]
     },
     "execution_count": 36,
     "metadata": {},
     "output_type": "execute_result"
    }
   ],
   "source": [
    "train_data_X.shape"
   ]
  },
  {
   "cell_type": "code",
   "execution_count": 34,
   "metadata": {},
   "outputs": [],
   "source": [
    "# save rmses\n",
    "np.save('rmses_x18.npy', rmses)"
   ]
  },
  {
   "cell_type": "code",
   "execution_count": null,
   "metadata": {},
   "outputs": [],
   "source": []
  },
  {
   "cell_type": "markdown",
   "metadata": {},
   "source": [
    "# NN"
   ]
  },
  {
   "cell_type": "code",
   "execution_count": 4,
   "metadata": {},
   "outputs": [],
   "source": [
    "from scripts import DataAuto, NARXAuto"
   ]
  },
  {
   "cell_type": "code",
   "execution_count": 5,
   "metadata": {},
   "outputs": [],
   "source": [
    "data = DataAuto(model_series=model_series, observed_series=observed_series, previous_values=4)\n",
    "\n",
    "train_data_X = data.X[:360]\n",
    "train_data_y = data.y[:360]\n",
    "\n",
    "test_data_X = data.X[360:]\n",
    "test_data_y = data.y[360:]"
   ]
  },
  {
   "cell_type": "code",
   "execution_count": 7,
   "metadata": {},
   "outputs": [],
   "source": [
    "model = NARXAuto(input_size=9, hidden_sizes=[20, 13, 4], output_size=1, M=M)"
   ]
  },
  {
   "cell_type": "code",
   "execution_count": 8,
   "metadata": {},
   "outputs": [],
   "source": [
    "trainloader = torch.utils.data.DataLoader(torch.utils.data.TensorDataset(train_data_X, train_data_y), batch_size=64, shuffle=True)"
   ]
  },
  {
   "cell_type": "code",
   "execution_count": 9,
   "metadata": {},
   "outputs": [
    {
     "data": {
      "text/plain": [
       "NARXAuto(\n",
       "  (net): Sequential(\n",
       "    (0): Linear(in_features=9, out_features=20, bias=True)\n",
       "    (1): Linear(in_features=20, out_features=13, bias=True)\n",
       "    (2): Linear(in_features=13, out_features=4, bias=True)\n",
       "    (3): Linear(in_features=4, out_features=1, bias=True)\n",
       "  )\n",
       ")"
      ]
     },
     "execution_count": 9,
     "metadata": {},
     "output_type": "execute_result"
    }
   ],
   "source": [
    "device = torch.device('cuda' if torch.cuda.is_available() else 'cpu')\n",
    "model.to(device)"
   ]
  },
  {
   "cell_type": "code",
   "execution_count": 19,
   "metadata": {},
   "outputs": [
    {
     "name": "stderr",
     "output_type": "stream",
     "text": [
      "Training: 100%|██████████| 10000/10000 [02:31<00:00, 65.95epoch/s]\n"
     ]
    }
   ],
   "source": [
    "train_losses, rmses = model.train_model(trainloader, test_data_X, test_data_y, epochs=10000, lr=0.001)"
   ]
  },
  {
   "cell_type": "code",
   "execution_count": 20,
   "metadata": {},
   "outputs": [
    {
     "name": "stdout",
     "output_type": "stream",
     "text": [
      "Month 1: RMSE = 1.8025\n",
      "Month 2: RMSE = 4.2380\n",
      "Month 3: RMSE = 6.7274\n",
      "Month 4: RMSE = 9.2798\n",
      "Month 5: RMSE = 11.8832\n",
      "Month 6: RMSE = 14.4318\n",
      "Month 7: RMSE = 16.8286\n",
      "Month 8: RMSE = 19.0602\n",
      "Month 9: RMSE = 21.1682\n",
      "Month 10: RMSE = 23.1756\n",
      "Month 11: RMSE = 25.1023\n",
      "Month 12: RMSE = 26.9403\n",
      "Month 13: RMSE = 28.6573\n",
      "Month 14: RMSE = 30.2881\n",
      "Month 15: RMSE = 31.8928\n",
      "Month 16: RMSE = 33.4828\n",
      "Month 17: RMSE = 35.0519\n",
      "Month 18: RMSE = 36.6019\n"
     ]
    }
   ],
   "source": [
    "for i, r in enumerate(rmses[-1]):\n",
    "    print(f\"Month {i + 1}: RMSE = {r:.4f}\")"
   ]
  },
  {
   "cell_type": "code",
   "execution_count": null,
   "metadata": {},
   "outputs": [],
   "source": []
  }
 ],
 "metadata": {
  "kernelspec": {
   "display_name": "Python 3",
   "language": "python",
   "name": "python3"
  },
  "language_info": {
   "codemirror_mode": {
    "name": "ipython",
    "version": 3
   },
   "file_extension": ".py",
   "mimetype": "text/x-python",
   "name": "python",
   "nbconvert_exporter": "python",
   "pygments_lexer": "ipython3",
   "version": "3.10.6"
  }
 },
 "nbformat": 4,
 "nbformat_minor": 2
}
